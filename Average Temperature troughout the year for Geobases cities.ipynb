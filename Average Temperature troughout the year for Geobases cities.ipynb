{
 "cells": [
  {
   "cell_type": "markdown",
   "metadata": {},
   "source": [
    "## Overview\n",
    "\n",
    "We would like to get a database with an history of the average temperature per day in the main world cities. We would use the geobases database to get a list of cities and the climate data in the daily GHCN database.\n",
    "Therefore, we will extract the nearest weather station WITH temperature data to a city in the geobases list."
   ]
  },
  {
   "cell_type": "code",
   "execution_count": 1,
   "metadata": {},
   "outputs": [
    {
     "name": "stderr",
     "output_type": "stream",
     "text": [
      "'wget' is not recognized as an internal or external command,\n",
      "operable program or batch file.\n"
     ]
    }
   ],
   "source": [
    "#Getting the climate data\n",
    "!wget http://www1.ncdc.noaa.gov/pub/data/ghcn/daily/by_year/2016.csv.gz"
   ]
  },
  {
   "cell_type": "code",
   "execution_count": 2,
   "metadata": {},
   "outputs": [
    {
     "name": "stderr",
     "output_type": "stream",
     "text": [
      "'gunzip' is not recognized as an internal or external command,\n",
      "operable program or batch file.\n"
     ]
    }
   ],
   "source": [
    "#Unzip the 2016 data\n",
    "!gunzip 2016.csv.gz"
   ]
  },
  {
   "cell_type": "code",
   "execution_count": 3,
   "metadata": {},
   "outputs": [
    {
     "name": "stderr",
     "output_type": "stream",
     "text": [
      "'wget' is not recognized as an internal or external command,\n",
      "operable program or batch file.\n"
     ]
    }
   ],
   "source": [
    "#Get the stations data\n",
    "!wget http://www1.ncdc.noaa.gov/pub/data/ghcn/daily/ghcnd-stations.txt -O stations.txt"
   ]
  },
  {
   "cell_type": "code",
   "execution_count": 4,
   "metadata": {},
   "outputs": [],
   "source": [
    "import pandas as pd"
   ]
  },
  {
   "cell_type": "markdown",
   "metadata": {},
   "source": [
    "## Load and parsing of stations data\n",
    "\n",
    "We load the stations data description and extract the information we need: id, coordinates and city name"
   ]
  },
  {
   "cell_type": "code",
   "execution_count": 5,
   "metadata": {},
   "outputs": [
    {
     "name": "stderr",
     "output_type": "stream",
     "text": [
      "'cat' is not recognized as an internal or external command,\n",
      "operable program or batch file.\n"
     ]
    }
   ],
   "source": [
    "#List of stations\n",
    "!cat stations.txt | head -n 10"
   ]
  },
  {
   "cell_type": "code",
   "execution_count": 6,
   "metadata": {},
   "outputs": [],
   "source": [
    "stationstxt = \"\"\n",
    "with open(\"stations.txt\") as input:\n",
    "    stationstxt = input.read()"
   ]
  },
  {
   "cell_type": "code",
   "execution_count": 7,
   "metadata": {},
   "outputs": [],
   "source": [
    "#Extract the data from file\n",
    "stations = stationstxt.split(\"\\n\")\n",
    "\n",
    "#Remove last line\n",
    "stations = stations[:-1]\n",
    "\n",
    "stations = list(map(lambda line: [line[0:11],float(line[13:20]),float(line[22:30]),line[41:71]], stations))"
   ]
  },
  {
   "cell_type": "code",
   "execution_count": 8,
   "metadata": {},
   "outputs": [
    {
     "data": {
      "text/plain": [
       "106283"
      ]
     },
     "execution_count": 8,
     "metadata": {},
     "output_type": "execute_result"
    }
   ],
   "source": [
    "len(stations)"
   ]
  },
  {
   "cell_type": "code",
   "execution_count": 9,
   "metadata": {
    "scrolled": false
   },
   "outputs": [
    {
     "data": {
      "text/plain": [
       "[['ACW00011604', 17.1167, -61.7833, 'ST JOHNS COOLIDGE FLD         '],\n",
       " ['ACW00011647', 17.1333, -61.7833, 'ST JOHNS                      '],\n",
       " ['AE000041196', 25.333, 55.517, 'SHARJAH INTER. AIRP           '],\n",
       " ['AEM00041194', 25.255, 55.364, 'DUBAI INTL                    '],\n",
       " ['AEM00041217', 24.433, 54.651, 'ABU DHABI INTL                ']]"
      ]
     },
     "execution_count": 9,
     "metadata": {},
     "output_type": "execute_result"
    }
   ],
   "source": [
    "stations[:5]"
   ]
  },
  {
   "cell_type": "markdown",
   "metadata": {},
   "source": [
    "## Selection of stations with temperature data\n",
    "\n",
    "We read the climate data file, select only the lines with temperature data TAVG and extract the list of stations."
   ]
  },
  {
   "cell_type": "code",
   "execution_count": 10,
   "metadata": {},
   "outputs": [
    {
     "name": "stderr",
     "output_type": "stream",
     "text": [
      "'cat' is not recognized as an internal or external command,\n",
      "operable program or batch file.\n"
     ]
    }
   ],
   "source": [
    "!cat 2016.csv | head -n 10"
   ]
  },
  {
   "cell_type": "code",
   "execution_count": 11,
   "metadata": {},
   "outputs": [
    {
     "data": {
      "text/html": [
       "<div>\n",
       "<style>\n",
       "    .dataframe thead tr:only-child th {\n",
       "        text-align: right;\n",
       "    }\n",
       "\n",
       "    .dataframe thead th {\n",
       "        text-align: left;\n",
       "    }\n",
       "\n",
       "    .dataframe tbody tr th {\n",
       "        vertical-align: top;\n",
       "    }\n",
       "</style>\n",
       "<table border=\"1\" class=\"dataframe\">\n",
       "  <thead>\n",
       "    <tr style=\"text-align: right;\">\n",
       "      <th></th>\n",
       "      <th>id</th>\n",
       "      <th>date</th>\n",
       "      <th>type</th>\n",
       "      <th>Value1</th>\n",
       "      <th>Value2</th>\n",
       "      <th>Value3</th>\n",
       "      <th>Value4</th>\n",
       "      <th>Value5</th>\n",
       "    </tr>\n",
       "  </thead>\n",
       "  <tbody>\n",
       "    <tr>\n",
       "      <th>0</th>\n",
       "      <td>US1MNCV0008</td>\n",
       "      <td>20160101</td>\n",
       "      <td>PRCP</td>\n",
       "      <td>0</td>\n",
       "      <td>T</td>\n",
       "      <td>NaN</td>\n",
       "      <td>N</td>\n",
       "      <td>NaN</td>\n",
       "    </tr>\n",
       "    <tr>\n",
       "      <th>1</th>\n",
       "      <td>US1MNCV0008</td>\n",
       "      <td>20160101</td>\n",
       "      <td>SNOW</td>\n",
       "      <td>0</td>\n",
       "      <td>T</td>\n",
       "      <td>NaN</td>\n",
       "      <td>N</td>\n",
       "      <td>NaN</td>\n",
       "    </tr>\n",
       "    <tr>\n",
       "      <th>2</th>\n",
       "      <td>US1MNCV0008</td>\n",
       "      <td>20160101</td>\n",
       "      <td>SNWD</td>\n",
       "      <td>127</td>\n",
       "      <td>NaN</td>\n",
       "      <td>NaN</td>\n",
       "      <td>N</td>\n",
       "      <td>NaN</td>\n",
       "    </tr>\n",
       "    <tr>\n",
       "      <th>3</th>\n",
       "      <td>CA1AB000023</td>\n",
       "      <td>20160101</td>\n",
       "      <td>PRCP</td>\n",
       "      <td>0</td>\n",
       "      <td>NaN</td>\n",
       "      <td>NaN</td>\n",
       "      <td>N</td>\n",
       "      <td>NaN</td>\n",
       "    </tr>\n",
       "    <tr>\n",
       "      <th>4</th>\n",
       "      <td>CA1AB000023</td>\n",
       "      <td>20160101</td>\n",
       "      <td>SNOW</td>\n",
       "      <td>0</td>\n",
       "      <td>NaN</td>\n",
       "      <td>NaN</td>\n",
       "      <td>N</td>\n",
       "      <td>NaN</td>\n",
       "    </tr>\n",
       "  </tbody>\n",
       "</table>\n",
       "</div>"
      ],
      "text/plain": [
       "            id      date  type  Value1 Value2 Value3 Value4  Value5\n",
       "0  US1MNCV0008  20160101  PRCP       0      T    NaN      N     NaN\n",
       "1  US1MNCV0008  20160101  SNOW       0      T    NaN      N     NaN\n",
       "2  US1MNCV0008  20160101  SNWD     127    NaN    NaN      N     NaN\n",
       "3  CA1AB000023  20160101  PRCP       0    NaN    NaN      N     NaN\n",
       "4  CA1AB000023  20160101  SNOW       0    NaN    NaN      N     NaN"
      ]
     },
     "execution_count": 11,
     "metadata": {},
     "output_type": "execute_result"
    }
   ],
   "source": [
    "weatherdf = pd.read_csv(\"2016.csv\",header=None)\n",
    "weatherdf.columns = [\"id\",\"date\",\"type\",\"Value1\",\"Value2\",\"Value3\",\"Value4\",\"Value5\"]\n",
    "weatherdf.head()"
   ]
  },
  {
   "cell_type": "code",
   "execution_count": 12,
   "metadata": {},
   "outputs": [
    {
     "data": {
      "text/plain": [
       "366"
      ]
     },
     "execution_count": 12,
     "metadata": {},
     "output_type": "execute_result"
    }
   ],
   "source": [
    "#Get total number of days\n",
    "days = len(weatherdf.groupby(\"date\").groups.keys())\n",
    "days"
   ]
  },
  {
   "cell_type": "code",
   "execution_count": 13,
   "metadata": {},
   "outputs": [
    {
     "data": {
      "text/plain": [
       "dict_keys(['AWDR', 'AWND', 'DAPR', 'DASF', 'DATN', 'DATX', 'DWPR', 'EVAP', 'MDPR', 'MDSF', 'MDTN', 'MDTX', 'MNPN', 'MXPN', 'PGTM', 'PRCP', 'PSUN', 'SN31', 'SN32', 'SN33', 'SN35', 'SN36', 'SN51', 'SN52', 'SN53', 'SN55', 'SN56', 'SNOW', 'SNWD', 'SX31', 'SX32', 'SX33', 'SX35', 'SX36', 'SX51', 'SX52', 'SX53', 'SX55', 'SX56', 'TAVG', 'THIC', 'TMAX', 'TMIN', 'TOBS', 'TSUN', 'WDF2', 'WDF5', 'WDFG', 'WDMV', 'WESD', 'WESF', 'WSF2', 'WSF5', 'WSFG', 'WSFI', 'WT01', 'WT02', 'WT03', 'WT04', 'WT05', 'WT06', 'WT07', 'WT08', 'WT09', 'WT10', 'WT11', 'WT17', 'WT18'])"
      ]
     },
     "execution_count": 13,
     "metadata": {},
     "output_type": "execute_result"
    }
   ],
   "source": [
    "#Check all the types of measures that are done\n",
    "weatherdf.groupby(\"type\").groups.keys()"
   ]
  },
  {
   "cell_type": "code",
   "execution_count": 14,
   "metadata": {},
   "outputs": [],
   "source": [
    "#Let's create a list of stations with the TAVG data\n",
    "stationstavg = weatherdf[weatherdf[\"type\"]==\"TAVG\"].groupby(\"id\")[\"date\"].count()"
   ]
  },
  {
   "cell_type": "code",
   "execution_count": 15,
   "metadata": {},
   "outputs": [
    {
     "data": {
      "text/plain": [
       "7077"
      ]
     },
     "execution_count": 15,
     "metadata": {},
     "output_type": "execute_result"
    }
   ],
   "source": [
    "len(stationstavg)"
   ]
  },
  {
   "cell_type": "code",
   "execution_count": 16,
   "metadata": {},
   "outputs": [
    {
     "name": "stdout",
     "output_type": "stream",
     "text": [
      "Populating the interactive namespace from numpy and matplotlib\n"
     ]
    },
    {
     "data": {
      "image/png": "[encoded data removed]",
      "text/plain": [
       "<matplotlib.figure.Figure at 0x292f6281a58>"
      ]
     },
     "metadata": {},
     "output_type": "display_data"
    }
   ],
   "source": [
    "#We visualize the days covered by the station with temperature data\n",
    "%pylab inline\n",
    "plt.hist(stationstavg)\n",
    "plt.show()"
   ]
  },
  {
   "cell_type": "code",
   "execution_count": 17,
   "metadata": {},
   "outputs": [],
   "source": [
    "stationstavg = stationstavg[stationstavg>45].reset_index()"
   ]
  },
  {
   "cell_type": "markdown",
   "metadata": {},
   "source": [
    "# Merge of the stations list with the temperature stations to get info on the temperature stations"
   ]
  },
  {
   "cell_type": "code",
   "execution_count": 18,
   "metadata": {},
   "outputs": [
    {
     "name": "stdout",
     "output_type": "stream",
     "text": [
      "106283\n",
      "6955\n"
     ]
    }
   ],
   "source": [
    "#We filter the stations and only take the ones with tavg\n",
    "stationsdf = pd.DataFrame(stations)\n",
    "stationsdf.columns = [\"id\",\"lat\",\"lng\",\"name\"]\n",
    "print(len(stationsdf))\n",
    "stationsdf = stationsdf.merge(stationstavg,on=\"id\")[[\"id\",\"lat\",\"lng\",\"name\"]]\n",
    "print(len(stationsdf))\n",
    "stations = stationsdf.values.tolist()"
   ]
  },
  {
   "cell_type": "markdown",
   "metadata": {},
   "source": [
    "## Find the nearest city to each weather station (10km radius)"
   ]
  },
  {
   "cell_type": "code",
   "execution_count": 19,
   "metadata": {},
   "outputs": [],
   "source": [
    "# Let's download the optd_por file\n",
    "optd_por = pd.read_csv(\"https://raw.githubusercontent.com/opentraveldata/opentraveldata/master/opentraveldata/optd_por_public.csv\",sep=\"^\")"
   ]
  },
  {
   "cell_type": "code",
   "execution_count": 20,
   "metadata": {},
   "outputs": [
    {
     "data": {
      "text/html": [
       "<div>\n",
       "<style>\n",
       "    .dataframe thead tr:only-child th {\n",
       "        text-align: right;\n",
       "    }\n",
       "\n",
       "    .dataframe thead th {\n",
       "        text-align: left;\n",
       "    }\n",
       "\n",
       "    .dataframe tbody tr th {\n",
       "        vertical-align: top;\n",
       "    }\n",
       "</style>\n",
       "<table border=\"1\" class=\"dataframe\">\n",
       "  <thead>\n",
       "    <tr style=\"text-align: right;\">\n",
       "      <th></th>\n",
       "      <th>iata_code</th>\n",
       "      <th>icao_code</th>\n",
       "      <th>faa_code</th>\n",
       "      <th>is_geonames</th>\n",
       "      <th>geoname_id</th>\n",
       "      <th>envelope_id</th>\n",
       "      <th>name</th>\n",
       "      <th>asciiname</th>\n",
       "      <th>latitude</th>\n",
       "      <th>longitude</th>\n",
       "      <th>...</th>\n",
       "      <th>city_name_list</th>\n",
       "      <th>city_detail_list</th>\n",
       "      <th>tvl_por_list</th>\n",
       "      <th>state_code</th>\n",
       "      <th>location_type</th>\n",
       "      <th>wiki_link</th>\n",
       "      <th>alt_name_section</th>\n",
       "      <th>wac</th>\n",
       "      <th>wac_name</th>\n",
       "      <th>ccy_code</th>\n",
       "    </tr>\n",
       "  </thead>\n",
       "  <tbody>\n",
       "    <tr>\n",
       "      <th>0</th>\n",
       "      <td>AAA</td>\n",
       "      <td>NTGA</td>\n",
       "      <td>NaN</td>\n",
       "      <td>Y</td>\n",
       "      <td>6947726</td>\n",
       "      <td>NaN</td>\n",
       "      <td>Anaa Airport</td>\n",
       "      <td>Anaa Airport</td>\n",
       "      <td>-17.352606</td>\n",
       "      <td>-145.509956</td>\n",
       "      <td>...</td>\n",
       "      <td>Anaa</td>\n",
       "      <td>AAA|4034700|Anaa|Anaa</td>\n",
       "      <td>NaN</td>\n",
       "      <td>NaN</td>\n",
       "      <td>A</td>\n",
       "      <td>http://en.wikipedia.org/wiki/Anaa_Airport</td>\n",
       "      <td>ru|Анаа|</td>\n",
       "      <td>823</td>\n",
       "      <td>French Polynesia</td>\n",
       "      <td>XPF</td>\n",
       "    </tr>\n",
       "    <tr>\n",
       "      <th>1</th>\n",
       "      <td>AAA</td>\n",
       "      <td>NaN</td>\n",
       "      <td>NaN</td>\n",
       "      <td>Y</td>\n",
       "      <td>4034700</td>\n",
       "      <td>NaN</td>\n",
       "      <td>Anaa</td>\n",
       "      <td>Anaa</td>\n",
       "      <td>-17.416670</td>\n",
       "      <td>-145.500000</td>\n",
       "      <td>...</td>\n",
       "      <td>Anaa</td>\n",
       "      <td>AAA|4034700|Anaa|Anaa</td>\n",
       "      <td>AAA</td>\n",
       "      <td>NaN</td>\n",
       "      <td>C</td>\n",
       "      <td>http://en.wikipedia.org/wiki/Anaa</td>\n",
       "      <td>|Anaa|=es|Isla de Todos Santos|=|Anau|=|Tapuho...</td>\n",
       "      <td>823</td>\n",
       "      <td>French Polynesia</td>\n",
       "      <td>XPF</td>\n",
       "    </tr>\n",
       "    <tr>\n",
       "      <th>2</th>\n",
       "      <td>AAB</td>\n",
       "      <td>YARY</td>\n",
       "      <td>NaN</td>\n",
       "      <td>Y</td>\n",
       "      <td>7730796</td>\n",
       "      <td>NaN</td>\n",
       "      <td>Arrabury Airport</td>\n",
       "      <td>Arrabury Airport</td>\n",
       "      <td>-26.693170</td>\n",
       "      <td>141.047800</td>\n",
       "      <td>...</td>\n",
       "      <td>Arrabury</td>\n",
       "      <td>AAB|2177638|Arrabury|Arrabury</td>\n",
       "      <td>NaN</td>\n",
       "      <td>QLD</td>\n",
       "      <td>A</td>\n",
       "      <td>http://en.wikipedia.org/wiki/Arrabury_Airport</td>\n",
       "      <td>en|Arrabury Airport|</td>\n",
       "      <td>802</td>\n",
       "      <td>Australia</td>\n",
       "      <td>AUD</td>\n",
       "    </tr>\n",
       "    <tr>\n",
       "      <th>3</th>\n",
       "      <td>AAB</td>\n",
       "      <td>NaN</td>\n",
       "      <td>NaN</td>\n",
       "      <td>Y</td>\n",
       "      <td>2177638</td>\n",
       "      <td>NaN</td>\n",
       "      <td>Arrabury</td>\n",
       "      <td>Arrabury</td>\n",
       "      <td>-26.764080</td>\n",
       "      <td>141.028530</td>\n",
       "      <td>...</td>\n",
       "      <td>Arrabury</td>\n",
       "      <td>AAB|2177638|Arrabury|Arrabury</td>\n",
       "      <td>AAB</td>\n",
       "      <td>QLD</td>\n",
       "      <td>C</td>\n",
       "      <td>NaN</td>\n",
       "      <td>en|Arrabury|</td>\n",
       "      <td>802</td>\n",
       "      <td>Australia</td>\n",
       "      <td>AUD</td>\n",
       "    </tr>\n",
       "    <tr>\n",
       "      <th>4</th>\n",
       "      <td>AAC</td>\n",
       "      <td>HEAR</td>\n",
       "      <td>NaN</td>\n",
       "      <td>Y</td>\n",
       "      <td>6297289</td>\n",
       "      <td>NaN</td>\n",
       "      <td>El Arish International Airport</td>\n",
       "      <td>El Arish International Airport</td>\n",
       "      <td>31.073330</td>\n",
       "      <td>33.835830</td>\n",
       "      <td>...</td>\n",
       "      <td>Arish</td>\n",
       "      <td>AAC|361546|Arish|Arish</td>\n",
       "      <td>NaN</td>\n",
       "      <td>NaN</td>\n",
       "      <td>A</td>\n",
       "      <td>http://en.wikipedia.org/wiki/El_Arish_Internat...</td>\n",
       "      <td>ar|مطار العريش الدولي|=en|El Arish Internation...</td>\n",
       "      <td>591</td>\n",
       "      <td>Egypt</td>\n",
       "      <td>EGP</td>\n",
       "    </tr>\n",
       "  </tbody>\n",
       "</table>\n",
       "<p>5 rows × 47 columns</p>\n",
       "</div>"
      ],
      "text/plain": [
       "  iata_code icao_code faa_code is_geonames  geoname_id  envelope_id  \\\n",
       "0       AAA      NTGA      NaN           Y     6947726          NaN   \n",
       "1       AAA       NaN      NaN           Y     4034700          NaN   \n",
       "2       AAB      YARY      NaN           Y     7730796          NaN   \n",
       "3       AAB       NaN      NaN           Y     2177638          NaN   \n",
       "4       AAC      HEAR      NaN           Y     6297289          NaN   \n",
       "\n",
       "                             name                       asciiname   latitude  \\\n",
       "0                    Anaa Airport                    Anaa Airport -17.352606   \n",
       "1                            Anaa                            Anaa -17.416670   \n",
       "2                Arrabury Airport                Arrabury Airport -26.693170   \n",
       "3                        Arrabury                        Arrabury -26.764080   \n",
       "4  El Arish International Airport  El Arish International Airport  31.073330   \n",
       "\n",
       "    longitude   ...    city_name_list               city_detail_list  \\\n",
       "0 -145.509956   ...              Anaa          AAA|4034700|Anaa|Anaa   \n",
       "1 -145.500000   ...              Anaa          AAA|4034700|Anaa|Anaa   \n",
       "2  141.047800   ...          Arrabury  AAB|2177638|Arrabury|Arrabury   \n",
       "3  141.028530   ...          Arrabury  AAB|2177638|Arrabury|Arrabury   \n",
       "4   33.835830   ...             Arish         AAC|361546|Arish|Arish   \n",
       "\n",
       "   tvl_por_list state_code location_type  \\\n",
       "0           NaN        NaN             A   \n",
       "1           AAA        NaN             C   \n",
       "2           NaN        QLD             A   \n",
       "3           AAB        QLD             C   \n",
       "4           NaN        NaN             A   \n",
       "\n",
       "                                           wiki_link  \\\n",
       "0          http://en.wikipedia.org/wiki/Anaa_Airport   \n",
       "1                  http://en.wikipedia.org/wiki/Anaa   \n",
       "2      http://en.wikipedia.org/wiki/Arrabury_Airport   \n",
       "3                                                NaN   \n",
       "4  http://en.wikipedia.org/wiki/El_Arish_Internat...   \n",
       "\n",
       "                                    alt_name_section  wac          wac_name  \\\n",
       "0                                           ru|Анаа|  823  French Polynesia   \n",
       "1  |Anaa|=es|Isla de Todos Santos|=|Anau|=|Tapuho...  823  French Polynesia   \n",
       "2                               en|Arrabury Airport|  802         Australia   \n",
       "3                                       en|Arrabury|  802         Australia   \n",
       "4  ar|مطار العريش الدولي|=en|El Arish Internation...  591             Egypt   \n",
       "\n",
       "  ccy_code  \n",
       "0      XPF  \n",
       "1      XPF  \n",
       "2      AUD  \n",
       "3      AUD  \n",
       "4      EGP  \n",
       "\n",
       "[5 rows x 47 columns]"
      ]
     },
     "execution_count": 20,
     "metadata": {},
     "output_type": "execute_result"
    }
   ],
   "source": [
    "optd_por.head()"
   ]
  },
  {
   "cell_type": "code",
   "execution_count": 21,
   "metadata": {},
   "outputs": [],
   "source": [
    "from vincenty import vincenty"
   ]
  },
  {
   "cell_type": "code",
   "execution_count": 22,
   "metadata": {},
   "outputs": [
    {
     "data": {
      "text/plain": [
       "25.333"
      ]
     },
     "execution_count": 22,
     "metadata": {},
     "output_type": "execute_result"
    }
   ],
   "source": [
    "stations[0][1]"
   ]
  },
  {
   "cell_type": "code",
   "execution_count": 24,
   "metadata": {},
   "outputs": [],
   "source": [
    "def getCity(lat,lng):\n",
    "    o2=optd_por.copy()\n",
    "    o2=o2[(o2[\"latitude\"]<lat+1)&(o2[\"latitude\"]>lat-1)&(o2[\"longitude\"]>lng-1)&(o2[\"longitude\"]<lng+1)]\n",
    "    if len(o2)==0:\n",
    "        return \"\"\n",
    "    o2[\"d\"]=o2.apply(lambda row: vincenty((row[\"latitude\"],row[\"longitude\"]),(lat,lng)),1)\n",
    "    res = o2.sort_values(\"d\").head(1)\n",
    "    if res[\"d\"].values[0]>10:\n",
    "        return \"\"\n",
    "    else:\n",
    "        return res['iata_code'].values[0]"
   ]
  },
  {
   "cell_type": "code",
   "execution_count": 25,
   "metadata": {},
   "outputs": [],
   "source": [
    "from tqdm import tqdm_notebook as tqdm"
   ]
  },
  {
   "cell_type": "code",
   "execution_count": 26,
   "metadata": {},
   "outputs": [
    {
     "data": {
      "text/plain": [
       "6955"
      ]
     },
     "execution_count": 26,
     "metadata": {},
     "output_type": "execute_result"
    }
   ],
   "source": [
    "len(list(stations))"
   ]
  },
  {
   "cell_type": "code",
   "execution_count": null,
   "metadata": {},
   "outputs": [
    {
     "data": {
      "application/vnd.jupyter.widget-view+json": {
       "model_id": "886b3a9277e940eea814b28418934a28",
       "version_major": 2,
       "version_minor": 0
      },
      "text/plain": [
       "A Jupyter Widget"
      ]
     },
     "metadata": {},
     "output_type": "display_data"
    }
   ],
   "source": [
    "stations = list(map(lambda s: s + [getCity(s[1],s[2])],tqdm(stations)))"
   ]
  },
  {
   "cell_type": "code",
   "execution_count": null,
   "metadata": {},
   "outputs": [],
   "source": [
    "stations[:5]"
   ]
  },
  {
   "cell_type": "code",
   "execution_count": null,
   "metadata": {},
   "outputs": [],
   "source": [
    "stationsdf = pd.DataFrame(stations)\n",
    "stationsdf.columns = [\"id\",\"lat\",\"lng\",\"name\",\"asciicity\"]"
   ]
  },
  {
   "cell_type": "code",
   "execution_count": null,
   "metadata": {},
   "outputs": [],
   "source": [
    "#We take only the stations near a city\n",
    "stationswithcity = stationsdf[stationsdf[\"asciicity\"]!=\"\"]"
   ]
  },
  {
   "cell_type": "code",
   "execution_count": null,
   "metadata": {},
   "outputs": [],
   "source": [
    "len(stationsdf)"
   ]
  },
  {
   "cell_type": "code",
   "execution_count": null,
   "metadata": {},
   "outputs": [],
   "source": [
    "len(stationswithcity)"
   ]
  },
  {
   "cell_type": "code",
   "execution_count": null,
   "metadata": {},
   "outputs": [],
   "source": [
    "citiesdf = stationswithcity.groupby(\"asciicity\").first().reset_index()"
   ]
  },
  {
   "cell_type": "code",
   "execution_count": null,
   "metadata": {},
   "outputs": [],
   "source": [
    "#Number of cities with one or several weather stations\n",
    "len(citiesdf)"
   ]
  },
  {
   "cell_type": "code",
   "execution_count": null,
   "metadata": {},
   "outputs": [],
   "source": [
    "#We write the result to a csv\n",
    "open(\"citiesweather.csv\",\"w\").write(citiesdf.to_csv())"
   ]
  },
  {
   "cell_type": "code",
   "execution_count": null,
   "metadata": {},
   "outputs": [],
   "source": [
    "#Example with Madrid\n",
    "citiesdf[citiesdf[\"asciicity\"].str.contains(\"MAD\")]"
   ]
  },
  {
   "cell_type": "code",
   "execution_count": null,
   "metadata": {},
   "outputs": [],
   "source": [
    "citiesdf.sample(5)"
   ]
  },
  {
   "cell_type": "markdown",
   "metadata": {},
   "source": [
    "# Now we can extract the temperature data for any city by its iata code"
   ]
  },
  {
   "cell_type": "code",
   "execution_count": null,
   "metadata": {},
   "outputs": [],
   "source": [
    "#First we find the id of the station assigend to Madrid\n",
    "code = citiesdf[citiesdf[\"asciicity\"]==\"MAD\"][\"id\"].values[0]\n",
    "code"
   ]
  },
  {
   "cell_type": "code",
   "execution_count": null,
   "metadata": {},
   "outputs": [],
   "source": [
    "#Now we extract the data from the climate table\n",
    "datatavg = weatherdf[(weatherdf[\"id\"]==code)&(weatherdf[\"type\"]==\"TAVG\")].sort_values(\"date\")\n",
    "datatavg[\"Value1\"]=datatavg[\"Value1\"]/10\n",
    "datatavg = datatavg.reset_index()\n",
    "datatavg.sample(5)"
   ]
  },
  {
   "cell_type": "code",
   "execution_count": null,
   "metadata": {},
   "outputs": [],
   "source": [
    "plt.figure(figsize=(20,10))\n",
    "x = range(len(datatavg))\n",
    "plt.plot(x,datatavg[\"Value1\"])\n",
    "plt.xticks(x, datatavg[\"date\"], rotation='45')\n",
    "plt.show()"
   ]
  },
  {
   "cell_type": "code",
   "execution_count": null,
   "metadata": {},
   "outputs": [],
   "source": []
  }
 ],
 "metadata": {
  "kernelspec": {
   "display_name": "Python 3",
   "language": "python",
   "name": "python3"
  },
  "language_info": {
   "codemirror_mode": {
    "name": "ipython",
    "version": 3
   },
   "file_extension": ".py",
   "mimetype": "text/x-python",
   "name": "python",
   "nbconvert_exporter": "python",
   "pygments_lexer": "ipython3",
   "version": "3.6.3"
  }
 },
 "nbformat": 4,
 "nbformat_minor": 1
}
