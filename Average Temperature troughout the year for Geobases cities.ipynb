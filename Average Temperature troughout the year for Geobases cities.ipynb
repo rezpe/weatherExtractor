{
 "cells": [
  {
   "cell_type": "markdown",
   "metadata": {},
   "source": [
    "## Overview\n",
    "\n",
    "We would like to get a database with an history of the average temperature per day in the main world cities. We would use the geobases database to get a list of cities and the climate data in the daily GHCN database.\n",
    "Therefore, we will extract the nearest weather station WITH temperature data to a city in the geobases list."
   ]
  },
  {
   "cell_type": "code",
   "execution_count": 1,
   "metadata": {
    "collapsed": true
   },
   "outputs": [],
   "source": [
    "import pandas as pd"
   ]
  },
  {
   "cell_type": "code",
   "execution_count": 2,
   "metadata": {
    "collapsed": false
   },
   "outputs": [],
   "source": [
    "# Load of geobase\n",
    "from GeoBases import GeoBase\n",
    "geo_c = GeoBase(data='ori_por', verbose=False)"
   ]
  },
  {
   "cell_type": "markdown",
   "metadata": {},
   "source": [
    "## Load and parsing of stations data\n",
    "\n",
    "We load the stations data description and extract the information we need: id, coordinates and city name"
   ]
  },
  {
   "cell_type": "code",
   "execution_count": 3,
   "metadata": {
    "collapsed": false
   },
   "outputs": [
    {
     "name": "stdout",
     "output_type": "stream",
     "text": [
      "ACW00011604  17.1167  -61.7833   10.1    ST JOHNS COOLIDGE FLD                       \r\n",
      "ACW00011647  17.1333  -61.7833   19.2    ST JOHNS                                    \r\n",
      "AE000041196  25.3330   55.5170   34.0    SHARJAH INTER. AIRP            GSN     41196\r\n",
      "AEM00041194  25.2550   55.3640   10.4    DUBAI INTL                             41194\r\n",
      "AEM00041217  24.4330   54.6510   26.8    ABU DHABI INTL                         41217\r\n",
      "AEM00041218  24.2620   55.6090  264.9    AL AIN INTL                            41218\r\n",
      "AF000040930  35.3170   69.0170 3366.0    NORTH-SALANG                   GSN     40930\r\n",
      "AFM00040938  34.2100   62.2280  977.2    HERAT                                  40938\r\n",
      "AFM00040948  34.5660   69.2120 1791.3    KABUL INTL                             40948\r\n",
      "AFM00040990  31.5000   65.8500 1010.0    KANDAHAR AIRPORT                       40990\r\n",
      "cat: write error: Broken pipe\r\n"
     ]
    }
   ],
   "source": [
    "#List of stations\n",
    "!cat stations.txt | head -n 10"
   ]
  },
  {
   "cell_type": "code",
   "execution_count": 4,
   "metadata": {
    "collapsed": false
   },
   "outputs": [],
   "source": [
    "stationstxt = \"\"\n",
    "with open(\"stations.txt\") as input:\n",
    "    stationstxt = input.read()"
   ]
  },
  {
   "cell_type": "code",
   "execution_count": 5,
   "metadata": {
    "collapsed": false
   },
   "outputs": [],
   "source": [
    "#Extract the data from file\n",
    "stations = stationstxt.split(\"\\n\")\n",
    "\n",
    "#Remove last line\n",
    "stations = stations[:-1]\n",
    "\n",
    "stations = map(lambda line: [line[0:11],float(line[13:20]),float(line[22:30]),line[41:71]], stations)"
   ]
  },
  {
   "cell_type": "code",
   "execution_count": 6,
   "metadata": {
    "collapsed": false
   },
   "outputs": [
    {
     "data": {
      "text/plain": [
       "100198"
      ]
     },
     "execution_count": 6,
     "metadata": {},
     "output_type": "execute_result"
    }
   ],
   "source": [
    "len(stations)"
   ]
  },
  {
   "cell_type": "code",
   "execution_count": 7,
   "metadata": {
    "collapsed": false,
    "scrolled": false
   },
   "outputs": [
    {
     "data": {
      "text/plain": [
       "[['ACW00011604', 17.1167, -61.7833, 'ST JOHNS COOLIDGE FLD         '],\n",
       " ['ACW00011647', 17.1333, -61.7833, 'ST JOHNS                      '],\n",
       " ['AE000041196', 25.333, 55.517, 'SHARJAH INTER. AIRP           '],\n",
       " ['AEM00041194', 25.255, 55.364, 'DUBAI INTL                    '],\n",
       " ['AEM00041217', 24.433, 54.651, 'ABU DHABI INTL                ']]"
      ]
     },
     "execution_count": 7,
     "metadata": {},
     "output_type": "execute_result"
    }
   ],
   "source": [
    "stations[:5]"
   ]
  },
  {
   "cell_type": "markdown",
   "metadata": {},
   "source": [
    "## Selection of stations with temperature data\n",
    "\n",
    "We read the climate data file, select only the lines with temperature data TAVG and extract the list of stations."
   ]
  },
  {
   "cell_type": "code",
   "execution_count": 8,
   "metadata": {
    "collapsed": false
   },
   "outputs": [
    {
     "name": "stdout",
     "output_type": "stream",
     "text": [
      "US1FLSL0019,20160101,PRCP,3,,,N,\r\n",
      "USC00141761,20160101,TMAX,22,,,H,0700\r\n",
      "USC00141761,20160101,TMIN,-89,,,H,0700\r\n",
      "USC00141761,20160101,TOBS,-89,,,H,0700\r\n",
      "USC00141761,20160101,PRCP,0,,,H,0700\r\n",
      "USC00141761,20160101,SNOW,0,,,H,\r\n",
      "USC00141761,20160101,SNWD,0,,,H,0700\r\n",
      "USS0018D08S,20160101,TMAX,-25,,,T,\r\n",
      "USS0018D08S,20160101,TMIN,-177,,,T,\r\n",
      "USS0018D08S,20160101,TOBS,-61,,,T,\r\n",
      "cat: write error: Broken pipe\r\n"
     ]
    }
   ],
   "source": [
    "!cat 2016.csv | head -n 10"
   ]
  },
  {
   "cell_type": "code",
   "execution_count": 9,
   "metadata": {
    "collapsed": false
   },
   "outputs": [
    {
     "data": {
      "text/html": [
       "<div>\n",
       "<table border=\"1\" class=\"dataframe\">\n",
       "  <thead>\n",
       "    <tr style=\"text-align: right;\">\n",
       "      <th></th>\n",
       "      <th>id</th>\n",
       "      <th>date</th>\n",
       "      <th>type</th>\n",
       "      <th>Value1</th>\n",
       "      <th>Value2</th>\n",
       "      <th>Value3</th>\n",
       "      <th>Value4</th>\n",
       "      <th>Value5</th>\n",
       "    </tr>\n",
       "  </thead>\n",
       "  <tbody>\n",
       "    <tr>\n",
       "      <th>0</th>\n",
       "      <td>US1FLSL0019</td>\n",
       "      <td>20160101</td>\n",
       "      <td>PRCP</td>\n",
       "      <td>3</td>\n",
       "      <td>NaN</td>\n",
       "      <td>NaN</td>\n",
       "      <td>N</td>\n",
       "      <td>NaN</td>\n",
       "    </tr>\n",
       "    <tr>\n",
       "      <th>1</th>\n",
       "      <td>USC00141761</td>\n",
       "      <td>20160101</td>\n",
       "      <td>TMAX</td>\n",
       "      <td>22</td>\n",
       "      <td>NaN</td>\n",
       "      <td>NaN</td>\n",
       "      <td>H</td>\n",
       "      <td>700</td>\n",
       "    </tr>\n",
       "    <tr>\n",
       "      <th>2</th>\n",
       "      <td>USC00141761</td>\n",
       "      <td>20160101</td>\n",
       "      <td>TMIN</td>\n",
       "      <td>-89</td>\n",
       "      <td>NaN</td>\n",
       "      <td>NaN</td>\n",
       "      <td>H</td>\n",
       "      <td>700</td>\n",
       "    </tr>\n",
       "    <tr>\n",
       "      <th>3</th>\n",
       "      <td>USC00141761</td>\n",
       "      <td>20160101</td>\n",
       "      <td>TOBS</td>\n",
       "      <td>-89</td>\n",
       "      <td>NaN</td>\n",
       "      <td>NaN</td>\n",
       "      <td>H</td>\n",
       "      <td>700</td>\n",
       "    </tr>\n",
       "    <tr>\n",
       "      <th>4</th>\n",
       "      <td>USC00141761</td>\n",
       "      <td>20160101</td>\n",
       "      <td>PRCP</td>\n",
       "      <td>0</td>\n",
       "      <td>NaN</td>\n",
       "      <td>NaN</td>\n",
       "      <td>H</td>\n",
       "      <td>700</td>\n",
       "    </tr>\n",
       "  </tbody>\n",
       "</table>\n",
       "</div>"
      ],
      "text/plain": [
       "            id      date  type  Value1 Value2 Value3 Value4  Value5\n",
       "0  US1FLSL0019  20160101  PRCP       3    NaN    NaN      N     NaN\n",
       "1  USC00141761  20160101  TMAX      22    NaN    NaN      H     700\n",
       "2  USC00141761  20160101  TMIN     -89    NaN    NaN      H     700\n",
       "3  USC00141761  20160101  TOBS     -89    NaN    NaN      H     700\n",
       "4  USC00141761  20160101  PRCP       0    NaN    NaN      H     700"
      ]
     },
     "execution_count": 9,
     "metadata": {},
     "output_type": "execute_result"
    }
   ],
   "source": [
    "weatherdf = pd.read_csv(\"2016.csv\",header=None)\n",
    "weatherdf.columns = [\"id\",\"date\",\"type\",\"Value1\",\"Value2\",\"Value3\",\"Value4\",\"Value5\"]\n",
    "weatherdf.head()"
   ]
  },
  {
   "cell_type": "code",
   "execution_count": 10,
   "metadata": {
    "collapsed": false
   },
   "outputs": [
    {
     "data": {
      "text/plain": [
       "51"
      ]
     },
     "execution_count": 10,
     "metadata": {},
     "output_type": "execute_result"
    }
   ],
   "source": [
    "#Get total number of days\n",
    "days = len(weatherdf.groupby(\"date\").groups.keys())\n",
    "days"
   ]
  },
  {
   "cell_type": "code",
   "execution_count": 11,
   "metadata": {
    "collapsed": false
   },
   "outputs": [
    {
     "name": "stdout",
     "output_type": "stream",
     "text": [
      "['TSUN', 'TMIN', 'DATX', 'SN52', 'SN53', 'MNPN', 'WDFG', 'SX36', 'DATN', 'SNWD', 'PGTM', 'WT11', 'SN51', 'SX53', 'SX32', 'MDTX', 'DAPR', 'SX52', 'WT08', 'SX51', 'WT05', 'WT04', 'WSF2', 'WT06', 'WT01', 'WSF5', 'WT03', 'WT02', 'WSFI', 'SX35', 'SX31', 'TOBS', 'SX33', 'EVAP', 'SN33', 'WT09', 'MXPN', 'WSFG', 'MDTN', 'DWPR', 'AWND', 'WESD', 'THIC', 'WT07', 'TAVG', 'PSUN', 'PRCP', 'TMAX', 'SNOW', 'MDPR', 'SN36', 'SN35', 'SN32', 'WDF5', 'SN31', 'WDMV', 'WDF2', 'WESF', 'AWDR']\n"
     ]
    }
   ],
   "source": [
    "#Check all the types of measures that are done\n",
    "print weatherdf.groupby(\"type\").groups.keys()"
   ]
  },
  {
   "cell_type": "code",
   "execution_count": 12,
   "metadata": {
    "collapsed": false
   },
   "outputs": [],
   "source": [
    "#Let's create a list of stations with the TAVG data\n",
    "stationstavg = weatherdf[weatherdf[\"type\"]==\"TAVG\"].groupby(\"id\")[\"date\"].count()"
   ]
  },
  {
   "cell_type": "code",
   "execution_count": 13,
   "metadata": {
    "collapsed": false
   },
   "outputs": [
    {
     "data": {
      "text/plain": [
       "5862"
      ]
     },
     "execution_count": 13,
     "metadata": {},
     "output_type": "execute_result"
    }
   ],
   "source": [
    "len(stationstavg)"
   ]
  },
  {
   "cell_type": "code",
   "execution_count": 14,
   "metadata": {
    "collapsed": false
   },
   "outputs": [
    {
     "data": {
      "image/png": "[encoded data removed]",
      "text/plain": [
       "<matplotlib.figure.Figure at 0x7f379008e5d0>"
      ]
     },
     "metadata": {},
     "output_type": "display_data"
    }
   ],
   "source": [
    "#We visualize the days covered by the station with temperature data\n",
    "import matplotlib.pyplot as plt\n",
    "%matplotlib inline\n",
    "plt.bar(range(len(stationstavg)),stationstavg)\n",
    "plt.show()"
   ]
  },
  {
   "cell_type": "code",
   "execution_count": 15,
   "metadata": {
    "collapsed": true
   },
   "outputs": [],
   "source": [
    "stationstavg = stationstavg[stationstavg>45].reset_index()"
   ]
  },
  {
   "cell_type": "markdown",
   "metadata": {},
   "source": [
    "# Merge of the stations list with the temperature stations to get info on the temperature stations"
   ]
  },
  {
   "cell_type": "code",
   "execution_count": 16,
   "metadata": {
    "collapsed": false
   },
   "outputs": [
    {
     "name": "stdout",
     "output_type": "stream",
     "text": [
      "100198\n",
      "5422\n"
     ]
    }
   ],
   "source": [
    "#We filter the stations and only take the ones with tavg\n",
    "stationsdf = pd.DataFrame(stations)\n",
    "stationsdf.columns = [\"id\",\"lat\",\"lng\",\"name\"]\n",
    "print(len(stationsdf))\n",
    "stationsdf = stationsdf.merge(stationstavg,on=\"id\")[[\"id\",\"lat\",\"lng\",\"name\"]]\n",
    "print(len(stationsdf))\n",
    "stations = stationsdf.values.tolist()"
   ]
  },
  {
   "cell_type": "markdown",
   "metadata": {},
   "source": [
    "## Find the nearest city to each weather station (10km radius)"
   ]
  },
  {
   "cell_type": "code",
   "execution_count": 17,
   "metadata": {
    "collapsed": false
   },
   "outputs": [],
   "source": [
    "def getCity(lat,lng):\n",
    "    try:\n",
    "        l = [[k,int(\"0\"+geo_c.get(k)[\"population\"])] for _,k in geo_c.findNearPoint((lat, lng), 10)]\n",
    "        l = sorted(l, key=lambda city: city[1], reverse=True)[0]\n",
    "        code = l[0]\n",
    "        return geo_c.get(code,'city_code')\n",
    "    except:\n",
    "        return \"\"\n",
    "\n",
    "stations = map(lambda s: s + [getCity(s[1],s[2])],stations)"
   ]
  },
  {
   "cell_type": "code",
   "execution_count": 18,
   "metadata": {
    "collapsed": false
   },
   "outputs": [
    {
     "data": {
      "text/plain": [
       "[['AE000041196', 25.333, 55.517, 'SHARJAH INTER. AIRP           ', 'SHJ'],\n",
       " ['AEM00041194', 25.255, 55.364, 'DUBAI INTL                    ', 'DXB'],\n",
       " ['AEM00041217', 24.433, 54.651, 'ABU DHABI INTL                ', 'AUH'],\n",
       " ['AEM00041218', 24.262, 55.609, 'AL AIN INTL                   ', 'AAN'],\n",
       " ['AFM00040938', 34.21, 62.228, 'HERAT                         ', 'HEA']]"
      ]
     },
     "execution_count": 18,
     "metadata": {},
     "output_type": "execute_result"
    }
   ],
   "source": [
    "stations[:5]"
   ]
  },
  {
   "cell_type": "code",
   "execution_count": 19,
   "metadata": {
    "collapsed": false
   },
   "outputs": [],
   "source": [
    "stationsdf = pd.DataFrame(stations)\n",
    "stationsdf.columns = [\"id\",\"lat\",\"lng\",\"name\",\"asciicity\"]"
   ]
  },
  {
   "cell_type": "code",
   "execution_count": 20,
   "metadata": {
    "collapsed": false
   },
   "outputs": [],
   "source": [
    "#We take only the stations near a city\n",
    "stationswithcity = stationsdf[stationsdf[\"asciicity\"]!=\"\"]"
   ]
  },
  {
   "cell_type": "code",
   "execution_count": 21,
   "metadata": {
    "collapsed": false
   },
   "outputs": [
    {
     "data": {
      "text/plain": [
       "5422"
      ]
     },
     "execution_count": 21,
     "metadata": {},
     "output_type": "execute_result"
    }
   ],
   "source": [
    "len(stationsdf)"
   ]
  },
  {
   "cell_type": "code",
   "execution_count": 22,
   "metadata": {
    "collapsed": false
   },
   "outputs": [
    {
     "data": {
      "text/plain": [
       "1521"
      ]
     },
     "execution_count": 22,
     "metadata": {},
     "output_type": "execute_result"
    }
   ],
   "source": [
    "len(stationswithcity)"
   ]
  },
  {
   "cell_type": "code",
   "execution_count": 23,
   "metadata": {
    "collapsed": false
   },
   "outputs": [],
   "source": [
    "citiesdf = stationswithcity.groupby(\"asciicity\").first().reset_index()"
   ]
  },
  {
   "cell_type": "code",
   "execution_count": 24,
   "metadata": {
    "collapsed": false
   },
   "outputs": [
    {
     "data": {
      "text/plain": [
       "1435"
      ]
     },
     "execution_count": 24,
     "metadata": {},
     "output_type": "execute_result"
    }
   ],
   "source": [
    "#Number of cities with one or several weather stations\n",
    "len(citiesdf)"
   ]
  },
  {
   "cell_type": "code",
   "execution_count": 25,
   "metadata": {
    "collapsed": false
   },
   "outputs": [],
   "source": [
    "#We write the result to a csv\n",
    "open(\"citiesweather.csv\",\"w\").write(citiesdf.to_csv())"
   ]
  },
  {
   "cell_type": "code",
   "execution_count": 26,
   "metadata": {
    "collapsed": false
   },
   "outputs": [
    {
     "data": {
      "text/html": [
       "<div>\n",
       "<table border=\"1\" class=\"dataframe\">\n",
       "  <thead>\n",
       "    <tr style=\"text-align: right;\">\n",
       "      <th></th>\n",
       "      <th>asciicity</th>\n",
       "      <th>id</th>\n",
       "      <th>lat</th>\n",
       "      <th>lng</th>\n",
       "      <th>name</th>\n",
       "    </tr>\n",
       "  </thead>\n",
       "  <tbody>\n",
       "    <tr>\n",
       "      <th>704</th>\n",
       "      <td>MAD</td>\n",
       "      <td>SPE00120278</td>\n",
       "      <td>40.4667</td>\n",
       "      <td>-3.5556</td>\n",
       "      <td>MADRID/BARAJAS</td>\n",
       "    </tr>\n",
       "  </tbody>\n",
       "</table>\n",
       "</div>"
      ],
      "text/plain": [
       "    asciicity           id      lat     lng                            name\n",
       "704       MAD  SPE00120278  40.4667 -3.5556  MADRID/BARAJAS                "
      ]
     },
     "execution_count": 26,
     "metadata": {},
     "output_type": "execute_result"
    }
   ],
   "source": [
    "#Example with Madrid\n",
    "citiesdf[citiesdf[\"asciicity\"].str.contains(\"MAD\")]"
   ]
  },
  {
   "cell_type": "code",
   "execution_count": 27,
   "metadata": {
    "collapsed": false
   },
   "outputs": [
    {
     "data": {
      "text/html": [
       "<div>\n",
       "<table border=\"1\" class=\"dataframe\">\n",
       "  <thead>\n",
       "    <tr style=\"text-align: right;\">\n",
       "      <th></th>\n",
       "      <th>asciicity</th>\n",
       "      <th>id</th>\n",
       "      <th>lat</th>\n",
       "      <th>lng</th>\n",
       "      <th>name</th>\n",
       "    </tr>\n",
       "  </thead>\n",
       "  <tbody>\n",
       "    <tr>\n",
       "      <th>1069</th>\n",
       "      <td>SJO</td>\n",
       "      <td>CSM00078762</td>\n",
       "      <td>9.9940</td>\n",
       "      <td>-84.2090</td>\n",
       "      <td>JUAN SANTAMARIA INTL</td>\n",
       "    </tr>\n",
       "    <tr>\n",
       "      <th>1033</th>\n",
       "      <td>SBW</td>\n",
       "      <td>MYM00096421</td>\n",
       "      <td>2.2620</td>\n",
       "      <td>111.9850</td>\n",
       "      <td>SIBU</td>\n",
       "    </tr>\n",
       "    <tr>\n",
       "      <th>1126</th>\n",
       "      <td>SYM</td>\n",
       "      <td>CHM00056964</td>\n",
       "      <td>22.7670</td>\n",
       "      <td>100.9830</td>\n",
       "      <td>SIMAO</td>\n",
       "    </tr>\n",
       "    <tr>\n",
       "      <th>266</th>\n",
       "      <td>DBQ</td>\n",
       "      <td>USW00094908</td>\n",
       "      <td>42.3978</td>\n",
       "      <td>-90.7036</td>\n",
       "      <td>DUBUQUE RGNL AP</td>\n",
       "    </tr>\n",
       "    <tr>\n",
       "      <th>565</th>\n",
       "      <td>KEJ</td>\n",
       "      <td>RSM00029642</td>\n",
       "      <td>55.2700</td>\n",
       "      <td>86.1070</td>\n",
       "      <td>KEMEROVO</td>\n",
       "    </tr>\n",
       "  </tbody>\n",
       "</table>\n",
       "</div>"
      ],
      "text/plain": [
       "     asciicity           id      lat       lng                            name\n",
       "1069       SJO  CSM00078762   9.9940  -84.2090  JUAN SANTAMARIA INTL          \n",
       "1033       SBW  MYM00096421   2.2620  111.9850  SIBU                          \n",
       "1126       SYM  CHM00056964  22.7670  100.9830  SIMAO                         \n",
       "266        DBQ  USW00094908  42.3978  -90.7036  DUBUQUE RGNL AP               \n",
       "565        KEJ  RSM00029642  55.2700   86.1070  KEMEROVO                      "
      ]
     },
     "execution_count": 27,
     "metadata": {},
     "output_type": "execute_result"
    }
   ],
   "source": [
    "citiesdf.sample(5)"
   ]
  },
  {
   "cell_type": "markdown",
   "metadata": {
    "collapsed": false
   },
   "source": [
    "# Now we can extract the temperature data for any city by its iata code"
   ]
  },
  {
   "cell_type": "code",
   "execution_count": 28,
   "metadata": {
    "collapsed": false
   },
   "outputs": [
    {
     "data": {
      "text/plain": [
       "'SP000008181'"
      ]
     },
     "execution_count": 28,
     "metadata": {},
     "output_type": "execute_result"
    }
   ],
   "source": [
    "#First we find the id of the station assigend to Madrid\n",
    "code = citiesdf[citiesdf[\"asciicity\"]==\"BCN\"][\"id\"].values[0]\n",
    "code"
   ]
  },
  {
   "cell_type": "code",
   "execution_count": 29,
   "metadata": {
    "collapsed": false
   },
   "outputs": [
    {
     "data": {
      "text/html": [
       "<div>\n",
       "<table border=\"1\" class=\"dataframe\">\n",
       "  <thead>\n",
       "    <tr style=\"text-align: right;\">\n",
       "      <th></th>\n",
       "      <th>index</th>\n",
       "      <th>id</th>\n",
       "      <th>date</th>\n",
       "      <th>type</th>\n",
       "      <th>Value1</th>\n",
       "      <th>Value2</th>\n",
       "      <th>Value3</th>\n",
       "      <th>Value4</th>\n",
       "      <th>Value5</th>\n",
       "    </tr>\n",
       "  </thead>\n",
       "  <tbody>\n",
       "    <tr>\n",
       "      <th>43</th>\n",
       "      <td>3161565</td>\n",
       "      <td>SP000008181</td>\n",
       "      <td>20160213</td>\n",
       "      <td>TAVG</td>\n",
       "      <td>17.2</td>\n",
       "      <td>H</td>\n",
       "      <td>NaN</td>\n",
       "      <td>S</td>\n",
       "      <td>NaN</td>\n",
       "    </tr>\n",
       "    <tr>\n",
       "      <th>18</th>\n",
       "      <td>1381035</td>\n",
       "      <td>SP000008181</td>\n",
       "      <td>20160119</td>\n",
       "      <td>TAVG</td>\n",
       "      <td>8.5</td>\n",
       "      <td>H</td>\n",
       "      <td>NaN</td>\n",
       "      <td>S</td>\n",
       "      <td>NaN</td>\n",
       "    </tr>\n",
       "    <tr>\n",
       "      <th>9</th>\n",
       "      <td>708497</td>\n",
       "      <td>SP000008181</td>\n",
       "      <td>20160110</td>\n",
       "      <td>TAVG</td>\n",
       "      <td>15.3</td>\n",
       "      <td>H</td>\n",
       "      <td>NaN</td>\n",
       "      <td>S</td>\n",
       "      <td>NaN</td>\n",
       "    </tr>\n",
       "    <tr>\n",
       "      <th>5</th>\n",
       "      <td>408635</td>\n",
       "      <td>SP000008181</td>\n",
       "      <td>20160106</td>\n",
       "      <td>TAVG</td>\n",
       "      <td>10.9</td>\n",
       "      <td>H</td>\n",
       "      <td>NaN</td>\n",
       "      <td>S</td>\n",
       "      <td>NaN</td>\n",
       "    </tr>\n",
       "    <tr>\n",
       "      <th>45</th>\n",
       "      <td>3291641</td>\n",
       "      <td>SP000008181</td>\n",
       "      <td>20160215</td>\n",
       "      <td>TAVG</td>\n",
       "      <td>9.7</td>\n",
       "      <td>H</td>\n",
       "      <td>NaN</td>\n",
       "      <td>S</td>\n",
       "      <td>NaN</td>\n",
       "    </tr>\n",
       "  </tbody>\n",
       "</table>\n",
       "</div>"
      ],
      "text/plain": [
       "      index           id      date  type  Value1 Value2 Value3 Value4  Value5\n",
       "43  3161565  SP000008181  20160213  TAVG    17.2      H    NaN      S     NaN\n",
       "18  1381035  SP000008181  20160119  TAVG     8.5      H    NaN      S     NaN\n",
       "9    708497  SP000008181  20160110  TAVG    15.3      H    NaN      S     NaN\n",
       "5    408635  SP000008181  20160106  TAVG    10.9      H    NaN      S     NaN\n",
       "45  3291641  SP000008181  20160215  TAVG     9.7      H    NaN      S     NaN"
      ]
     },
     "execution_count": 29,
     "metadata": {},
     "output_type": "execute_result"
    }
   ],
   "source": [
    "#Now we extract the data from the climate table\n",
    "datatavg = weatherdf[(weatherdf[\"id\"]==code)&(weatherdf[\"type\"]==\"TAVG\")].sort_values(\"date\")\n",
    "datatavg[\"Value1\"]=datatavg[\"Value1\"]/10\n",
    "datatavg = datatavg.reset_index()\n",
    "datatavg.sample(5)"
   ]
  },
  {
   "cell_type": "code",
   "execution_count": 30,
   "metadata": {
    "collapsed": false
   },
   "outputs": [
    {
     "data": {
      "image/png": "[encoded data removed]",
      "text/plain": [
       "<matplotlib.figure.Figure at 0x7f379ef73710>"
      ]
     },
     "metadata": {},
     "output_type": "display_data"
    }
   ],
   "source": [
    "plt.figure(figsize=(20,10))\n",
    "x = range(len(datatavg))\n",
    "plt.plot(x,datatavg[\"Value1\"])\n",
    "plt.xticks(x, datatavg[\"date\"], rotation='45')\n",
    "plt.show()"
   ]
  },
  {
   "cell_type": "code",
   "execution_count": null,
   "metadata": {
    "collapsed": true
   },
   "outputs": [],
   "source": []
  }
 ],
 "metadata": {
  "kernelspec": {
   "display_name": "Python 2",
   "language": "python",
   "name": "python2"
  },
  "language_info": {
   "codemirror_mode": {
    "name": "ipython",
    "version": 2
   },
   "file_extension": ".py",
   "mimetype": "text/x-python",
   "name": "python",
   "nbconvert_exporter": "python",
   "pygments_lexer": "ipython2",
   "version": "2.7.6"
  }
 },
 "nbformat": 4,
 "nbformat_minor": 0
}
