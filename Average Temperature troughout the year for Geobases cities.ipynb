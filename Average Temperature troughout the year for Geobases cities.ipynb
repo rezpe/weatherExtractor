{
 "cells": [
  {
   "cell_type": "markdown",
   "metadata": {},
   "source": [
    "## Overview\n",
    "\n",
    "We would like to get a database with an history of the average temperature per day in the main world cities. We would use the geobases database to get a list of cities and the climate data in the daily GHCN database.\n",
    "Therefore, we will extract the nearest weather station WITH temperature data to a city in the geobases list."
   ]
  },
  {
   "cell_type": "code",
   "execution_count": 1,
   "metadata": {},
   "outputs": [
    {
     "name": "stderr",
     "output_type": "stream",
     "text": [
      "'wget' is not recognized as an internal or external command,\n",
      "operable program or batch file.\n"
     ]
    }
   ],
   "source": [
    "#Getting the climate data\n",
    "!wget http://www1.ncdc.noaa.gov/pub/data/ghcn/daily/by_year/2016.csv.gz"
   ]
  },
  {
   "cell_type": "code",
   "execution_count": 2,
   "metadata": {},
   "outputs": [
    {
     "name": "stderr",
     "output_type": "stream",
     "text": [
      "'gunzip' is not recognized as an internal or external command,\n",
      "operable program or batch file.\n"
     ]
    }
   ],
   "source": [
    "#Unzip the 2016 data\n",
    "!gunzip 2016.csv.gz"
   ]
  },
  {
   "cell_type": "code",
   "execution_count": 3,
   "metadata": {},
   "outputs": [
    {
     "name": "stderr",
     "output_type": "stream",
     "text": [
      "'wget' is not recognized as an internal or external command,\n",
      "operable program or batch file.\n"
     ]
    }
   ],
   "source": [
    "#Get the stations data\n",
    "!wget http://www1.ncdc.noaa.gov/pub/data/ghcn/daily/ghcnd-stations.txt -O stations.txt"
   ]
  },
  {
   "cell_type": "code",
   "execution_count": 1,
   "metadata": {},
   "outputs": [],
   "source": [
    "import pandas as pd"
   ]
  },
  {
   "cell_type": "markdown",
   "metadata": {},
   "source": [
    "## Load and parsing of stations data\n",
    "\n",
    "We load the stations data description and extract the information we need: id, coordinates and city name"
   ]
  },
  {
   "cell_type": "code",
   "execution_count": 65,
   "metadata": {},
   "outputs": [
    {
     "name": "stderr",
     "output_type": "stream",
     "text": [
      "'cat' is not recognized as an internal or external command,\n",
      "operable program or batch file.\n"
     ]
    }
   ],
   "source": [
    "#List of stations\n",
    "!cat stations.txt | head -n 10"
   ]
  },
  {
   "cell_type": "code",
   "execution_count": 2,
   "metadata": {},
   "outputs": [],
   "source": [
    "stationstxt = \"\"\n",
    "with open(\"stations.txt\") as input:\n",
    "    stationstxt = input.read()"
   ]
  },
  {
   "cell_type": "code",
   "execution_count": 3,
   "metadata": {},
   "outputs": [],
   "source": [
    "#Extract the data from file\n",
    "stations = stationstxt.split(\"\\n\")\n",
    "\n",
    "#Remove last line\n",
    "stations = stations[:-1]\n",
    "\n",
    "stations = list(map(lambda line: [line[0:11],float(line[13:20]),float(line[22:30]),line[41:71]], stations))"
   ]
  },
  {
   "cell_type": "code",
   "execution_count": 4,
   "metadata": {},
   "outputs": [
    {
     "data": {
      "text/plain": [
       "106283"
      ]
     },
     "execution_count": 4,
     "metadata": {},
     "output_type": "execute_result"
    }
   ],
   "source": [
    "len(stations)"
   ]
  },
  {
   "cell_type": "code",
   "execution_count": 5,
   "metadata": {
    "scrolled": false
   },
   "outputs": [
    {
     "data": {
      "text/plain": [
       "[['ACW00011604', 17.1167, -61.7833, 'ST JOHNS COOLIDGE FLD         '],\n",
       " ['ACW00011647', 17.1333, -61.7833, 'ST JOHNS                      '],\n",
       " ['AE000041196', 25.333, 55.517, 'SHARJAH INTER. AIRP           '],\n",
       " ['AEM00041194', 25.255, 55.364, 'DUBAI INTL                    '],\n",
       " ['AEM00041217', 24.433, 54.651, 'ABU DHABI INTL                ']]"
      ]
     },
     "execution_count": 5,
     "metadata": {},
     "output_type": "execute_result"
    }
   ],
   "source": [
    "stations[:5]"
   ]
  },
  {
   "cell_type": "markdown",
   "metadata": {},
   "source": [
    "## Selection of stations with temperature data\n",
    "\n",
    "We read the climate data file, select only the lines with temperature data TAVG and extract the list of stations."
   ]
  },
  {
   "cell_type": "code",
   "execution_count": 6,
   "metadata": {},
   "outputs": [
    {
     "name": "stderr",
     "output_type": "stream",
     "text": [
      "'cat' is not recognized as an internal or external command,\n",
      "operable program or batch file.\n"
     ]
    }
   ],
   "source": [
    "!cat 2016.csv | head -n 10"
   ]
  },
  {
   "cell_type": "code",
   "execution_count": 7,
   "metadata": {},
   "outputs": [
    {
     "data": {
      "text/html": [
       "<div>\n",
       "<style>\n",
       "    .dataframe thead tr:only-child th {\n",
       "        text-align: right;\n",
       "    }\n",
       "\n",
       "    .dataframe thead th {\n",
       "        text-align: left;\n",
       "    }\n",
       "\n",
       "    .dataframe tbody tr th {\n",
       "        vertical-align: top;\n",
       "    }\n",
       "</style>\n",
       "<table border=\"1\" class=\"dataframe\">\n",
       "  <thead>\n",
       "    <tr style=\"text-align: right;\">\n",
       "      <th></th>\n",
       "      <th>id</th>\n",
       "      <th>date</th>\n",
       "      <th>type</th>\n",
       "      <th>Value1</th>\n",
       "      <th>Value2</th>\n",
       "      <th>Value3</th>\n",
       "      <th>Value4</th>\n",
       "      <th>Value5</th>\n",
       "    </tr>\n",
       "  </thead>\n",
       "  <tbody>\n",
       "    <tr>\n",
       "      <th>0</th>\n",
       "      <td>US1MNCV0008</td>\n",
       "      <td>20160101</td>\n",
       "      <td>PRCP</td>\n",
       "      <td>0</td>\n",
       "      <td>T</td>\n",
       "      <td>NaN</td>\n",
       "      <td>N</td>\n",
       "      <td>NaN</td>\n",
       "    </tr>\n",
       "    <tr>\n",
       "      <th>1</th>\n",
       "      <td>US1MNCV0008</td>\n",
       "      <td>20160101</td>\n",
       "      <td>SNOW</td>\n",
       "      <td>0</td>\n",
       "      <td>T</td>\n",
       "      <td>NaN</td>\n",
       "      <td>N</td>\n",
       "      <td>NaN</td>\n",
       "    </tr>\n",
       "    <tr>\n",
       "      <th>2</th>\n",
       "      <td>US1MNCV0008</td>\n",
       "      <td>20160101</td>\n",
       "      <td>SNWD</td>\n",
       "      <td>127</td>\n",
       "      <td>NaN</td>\n",
       "      <td>NaN</td>\n",
       "      <td>N</td>\n",
       "      <td>NaN</td>\n",
       "    </tr>\n",
       "    <tr>\n",
       "      <th>3</th>\n",
       "      <td>CA1AB000023</td>\n",
       "      <td>20160101</td>\n",
       "      <td>PRCP</td>\n",
       "      <td>0</td>\n",
       "      <td>NaN</td>\n",
       "      <td>NaN</td>\n",
       "      <td>N</td>\n",
       "      <td>NaN</td>\n",
       "    </tr>\n",
       "    <tr>\n",
       "      <th>4</th>\n",
       "      <td>CA1AB000023</td>\n",
       "      <td>20160101</td>\n",
       "      <td>SNOW</td>\n",
       "      <td>0</td>\n",
       "      <td>NaN</td>\n",
       "      <td>NaN</td>\n",
       "      <td>N</td>\n",
       "      <td>NaN</td>\n",
       "    </tr>\n",
       "  </tbody>\n",
       "</table>\n",
       "</div>"
      ],
      "text/plain": [
       "            id      date  type  Value1 Value2 Value3 Value4  Value5\n",
       "0  US1MNCV0008  20160101  PRCP       0      T    NaN      N     NaN\n",
       "1  US1MNCV0008  20160101  SNOW       0      T    NaN      N     NaN\n",
       "2  US1MNCV0008  20160101  SNWD     127    NaN    NaN      N     NaN\n",
       "3  CA1AB000023  20160101  PRCP       0    NaN    NaN      N     NaN\n",
       "4  CA1AB000023  20160101  SNOW       0    NaN    NaN      N     NaN"
      ]
     },
     "execution_count": 7,
     "metadata": {},
     "output_type": "execute_result"
    }
   ],
   "source": [
    "weatherdf = pd.read_csv(\"2016.csv\",header=None)\n",
    "weatherdf.columns = [\"id\",\"date\",\"type\",\"Value1\",\"Value2\",\"Value3\",\"Value4\",\"Value5\"]\n",
    "weatherdf.head()"
   ]
  },
  {
   "cell_type": "code",
   "execution_count": 8,
   "metadata": {},
   "outputs": [
    {
     "data": {
      "text/plain": [
       "366"
      ]
     },
     "execution_count": 8,
     "metadata": {},
     "output_type": "execute_result"
    }
   ],
   "source": [
    "#Get total number of days\n",
    "days = len(weatherdf.groupby(\"date\").groups.keys())\n",
    "days"
   ]
  },
  {
   "cell_type": "code",
   "execution_count": 9,
   "metadata": {},
   "outputs": [
    {
     "data": {
      "text/plain": [
       "dict_keys(['AWDR', 'AWND', 'DAPR', 'DASF', 'DATN', 'DATX', 'DWPR', 'EVAP', 'MDPR', 'MDSF', 'MDTN', 'MDTX', 'MNPN', 'MXPN', 'PGTM', 'PRCP', 'PSUN', 'SN31', 'SN32', 'SN33', 'SN35', 'SN36', 'SN51', 'SN52', 'SN53', 'SN55', 'SN56', 'SNOW', 'SNWD', 'SX31', 'SX32', 'SX33', 'SX35', 'SX36', 'SX51', 'SX52', 'SX53', 'SX55', 'SX56', 'TAVG', 'THIC', 'TMAX', 'TMIN', 'TOBS', 'TSUN', 'WDF2', 'WDF5', 'WDFG', 'WDMV', 'WESD', 'WESF', 'WSF2', 'WSF5', 'WSFG', 'WSFI', 'WT01', 'WT02', 'WT03', 'WT04', 'WT05', 'WT06', 'WT07', 'WT08', 'WT09', 'WT10', 'WT11', 'WT17', 'WT18'])"
      ]
     },
     "execution_count": 9,
     "metadata": {},
     "output_type": "execute_result"
    }
   ],
   "source": [
    "#Check all the types of measures that are done\n",
    "weatherdf.groupby(\"type\").groups.keys()"
   ]
  },
  {
   "cell_type": "code",
   "execution_count": 10,
   "metadata": {},
   "outputs": [],
   "source": [
    "#Let's create a list of stations with the TAVG data\n",
    "stationstavg = weatherdf[weatherdf[\"type\"]==\"TAVG\"].groupby(\"id\")[\"date\"].count()"
   ]
  },
  {
   "cell_type": "code",
   "execution_count": 11,
   "metadata": {},
   "outputs": [
    {
     "data": {
      "text/plain": [
       "7077"
      ]
     },
     "execution_count": 11,
     "metadata": {},
     "output_type": "execute_result"
    }
   ],
   "source": [
    "len(stationstavg)"
   ]
  },
  {
   "cell_type": "code",
   "execution_count": 12,
   "metadata": {},
   "outputs": [
    {
     "name": "stdout",
     "output_type": "stream",
     "text": [
      "Populating the interactive namespace from numpy and matplotlib\n"
     ]
    },
    {
     "data": {
      "image/png": "[encoded data removed]",
      "text/plain": [
       "<matplotlib.figure.Figure at 0x1af38205cc0>"
      ]
     },
     "metadata": {},
     "output_type": "display_data"
    }
   ],
   "source": [
    "#We visualize the days covered by the station with temperature data\n",
    "%pylab inline\n",
    "plt.hist(stationstavg)\n",
    "plt.show()"
   ]
  },
  {
   "cell_type": "code",
   "execution_count": 13,
   "metadata": {},
   "outputs": [],
   "source": [
    "stationstavg = stationstavg[stationstavg>45].reset_index()"
   ]
  },
  {
   "cell_type": "markdown",
   "metadata": {},
   "source": [
    "# Merge of the stations list with the temperature stations to get info on the temperature stations"
   ]
  },
  {
   "cell_type": "code",
   "execution_count": 14,
   "metadata": {},
   "outputs": [
    {
     "name": "stdout",
     "output_type": "stream",
     "text": [
      "106283\n",
      "6955\n"
     ]
    }
   ],
   "source": [
    "#We filter the stations and only take the ones with tavg\n",
    "stationsdf = pd.DataFrame(stations)\n",
    "stationsdf.columns = [\"id\",\"lat\",\"lng\",\"name\"]\n",
    "print(len(stationsdf))\n",
    "stationsdf = stationsdf.merge(stationstavg,on=\"id\")[[\"id\",\"lat\",\"lng\",\"name\"]]\n",
    "print(len(stationsdf))\n",
    "stations = stationsdf.values.tolist()"
   ]
  },
  {
   "cell_type": "markdown",
   "metadata": {},
   "source": [
    "## Find the nearest city to each weather station (10km radius)"
   ]
  },
  {
   "cell_type": "code",
   "execution_count": 15,
   "metadata": {},
   "outputs": [],
   "source": [
    "# Let's download the optd_por file\n",
    "optd_por = pd.read_csv(\"https://raw.githubusercontent.com/opentraveldata/opentraveldata/master/opentraveldata/optd_por_public.csv\",sep=\"^\")"
   ]
  },
  {
   "cell_type": "code",
   "execution_count": 16,
   "metadata": {},
   "outputs": [
    {
     "data": {
      "text/plain": [
       "Index(['iata_code', 'icao_code', 'faa_code', 'is_geonames', 'geoname_id',\n",
       "       'envelope_id', 'name', 'asciiname', 'latitude', 'longitude', 'fclass',\n",
       "       'fcode', 'page_rank', 'date_from', 'date_until', 'comment',\n",
       "       'country_code', 'cc2', 'country_name', 'continent_name', 'adm1_code',\n",
       "       'adm1_name_utf', 'adm1_name_ascii', 'adm2_code', 'adm2_name_utf',\n",
       "       'adm2_name_ascii', 'adm3_code', 'adm4_code', 'population', 'elevation',\n",
       "       'gtopo30', 'timezone', 'gmt_offset', 'dst_offset', 'raw_offset',\n",
       "       'moddate', 'city_code_list', 'city_name_list', 'city_detail_list',\n",
       "       'tvl_por_list', 'state_code', 'location_type', 'wiki_link',\n",
       "       'alt_name_section', 'wac', 'wac_name', 'ccy_code'],\n",
       "      dtype='object')"
      ]
     },
     "execution_count": 16,
     "metadata": {},
     "output_type": "execute_result"
    }
   ],
   "source": [
    "optd_por.columns"
   ]
  },
  {
   "cell_type": "code",
   "execution_count": 17,
   "metadata": {},
   "outputs": [],
   "source": [
    "optd_por=optd_por[optd_por[\"location_type\"]==\"C\"]"
   ]
  },
  {
   "cell_type": "code",
   "execution_count": 18,
   "metadata": {},
   "outputs": [],
   "source": [
    "from vincenty import vincenty"
   ]
  },
  {
   "cell_type": "code",
   "execution_count": 19,
   "metadata": {},
   "outputs": [],
   "source": [
    "def getCity(lat,lng):\n",
    "    o2=optd_por.copy()\n",
    "    o2=o2[(o2[\"latitude\"]<lat+1)&(o2[\"latitude\"]>lat-1)&(o2[\"longitude\"]>lng-1)&(o2[\"longitude\"]<lng+1)]\n",
    "    if len(o2)==0:\n",
    "        return \"\"\n",
    "    o2[\"d\"]=o2.apply(lambda row: vincenty((row[\"latitude\"],row[\"longitude\"]),(lat,lng)),1)\n",
    "    res = o2.sort_values(\"d\").head(1)\n",
    "    if res[\"d\"].values[0]>10:\n",
    "        return \"\"\n",
    "    else:\n",
    "        return res['iata_code'].values[0]"
   ]
  },
  {
   "cell_type": "code",
   "execution_count": 20,
   "metadata": {},
   "outputs": [],
   "source": [
    "from tqdm import tqdm_notebook as tqdm"
   ]
  },
  {
   "cell_type": "code",
   "execution_count": 21,
   "metadata": {},
   "outputs": [
    {
     "data": {
      "text/plain": [
       "6955"
      ]
     },
     "execution_count": 21,
     "metadata": {},
     "output_type": "execute_result"
    }
   ],
   "source": [
    "len(list(stations))"
   ]
  },
  {
   "cell_type": "code",
   "execution_count": 22,
   "metadata": {},
   "outputs": [
    {
     "data": {
      "application/vnd.jupyter.widget-view+json": {
       "model_id": "bf1a021379a646fe97b6f66b8c5fae0e",
       "version_major": 2,
       "version_minor": 0
      },
      "text/plain": [
       "A Jupyter Widget"
      ]
     },
     "metadata": {},
     "output_type": "display_data"
    },
    {
     "name": "stdout",
     "output_type": "stream",
     "text": [
      "\n"
     ]
    }
   ],
   "source": [
    "stations = list(map(lambda s: s + [getCity(s[1],s[2])],tqdm(stations)))"
   ]
  },
  {
   "cell_type": "code",
   "execution_count": 23,
   "metadata": {},
   "outputs": [
    {
     "data": {
      "text/plain": [
       "[['AE000041196', 25.333, 55.517, 'SHARJAH INTER. AIRP           ', ''],\n",
       " ['AEM00041194', 25.255, 55.364, 'DUBAI INTL                    ', ''],\n",
       " ['AEM00041217', 24.433, 54.651, 'ABU DHABI INTL                ', 'AYM'],\n",
       " ['AEM00041218', 24.262, 55.609, 'AL AIN INTL                   ', ''],\n",
       " ['AFM00040938', 34.21, 62.228, 'HERAT                         ', '']]"
      ]
     },
     "execution_count": 23,
     "metadata": {},
     "output_type": "execute_result"
    }
   ],
   "source": [
    "stations[:5]"
   ]
  },
  {
   "cell_type": "code",
   "execution_count": 24,
   "metadata": {},
   "outputs": [],
   "source": [
    "stationsdf = pd.DataFrame(stations)\n",
    "stationsdf.columns = [\"id\",\"lat\",\"lng\",\"name\",\"asciicity\"]"
   ]
  },
  {
   "cell_type": "code",
   "execution_count": 25,
   "metadata": {},
   "outputs": [],
   "source": [
    "#We take only the stations near a city\n",
    "stationswithcity = stationsdf[stationsdf[\"asciicity\"]!=\"\"]"
   ]
  },
  {
   "cell_type": "code",
   "execution_count": 26,
   "metadata": {},
   "outputs": [
    {
     "data": {
      "text/plain": [
       "6955"
      ]
     },
     "execution_count": 26,
     "metadata": {},
     "output_type": "execute_result"
    }
   ],
   "source": [
    "len(stationsdf)"
   ]
  },
  {
   "cell_type": "code",
   "execution_count": 27,
   "metadata": {},
   "outputs": [
    {
     "data": {
      "text/plain": [
       "1506"
      ]
     },
     "execution_count": 27,
     "metadata": {},
     "output_type": "execute_result"
    }
   ],
   "source": [
    "len(stationswithcity)"
   ]
  },
  {
   "cell_type": "code",
   "execution_count": 28,
   "metadata": {},
   "outputs": [],
   "source": [
    "citiesdf = stationswithcity.groupby(\"asciicity\").first().reset_index()"
   ]
  },
  {
   "cell_type": "code",
   "execution_count": 29,
   "metadata": {},
   "outputs": [
    {
     "data": {
      "text/plain": [
       "1399"
      ]
     },
     "execution_count": 29,
     "metadata": {},
     "output_type": "execute_result"
    }
   ],
   "source": [
    "#Number of cities with one or several weather stations\n",
    "len(citiesdf)"
   ]
  },
  {
   "cell_type": "code",
   "execution_count": 30,
   "metadata": {},
   "outputs": [
    {
     "data": {
      "text/plain": [
       "91483"
      ]
     },
     "execution_count": 30,
     "metadata": {},
     "output_type": "execute_result"
    }
   ],
   "source": [
    "#We write the result to a csv\n",
    "open(\"citiesweather.csv\",\"w\").write(citiesdf.to_csv())"
   ]
  },
  {
   "cell_type": "code",
   "execution_count": 31,
   "metadata": {},
   "outputs": [
    {
     "data": {
      "text/html": [
       "<div>\n",
       "<style>\n",
       "    .dataframe thead tr:only-child th {\n",
       "        text-align: right;\n",
       "    }\n",
       "\n",
       "    .dataframe thead th {\n",
       "        text-align: left;\n",
       "    }\n",
       "\n",
       "    .dataframe tbody tr th {\n",
       "        vertical-align: top;\n",
       "    }\n",
       "</style>\n",
       "<table border=\"1\" class=\"dataframe\">\n",
       "  <thead>\n",
       "    <tr style=\"text-align: right;\">\n",
       "      <th></th>\n",
       "      <th>asciicity</th>\n",
       "      <th>id</th>\n",
       "      <th>lat</th>\n",
       "      <th>lng</th>\n",
       "      <th>name</th>\n",
       "    </tr>\n",
       "  </thead>\n",
       "  <tbody>\n",
       "    <tr>\n",
       "      <th>668</th>\n",
       "      <td>MAD</td>\n",
       "      <td>SPE00120287</td>\n",
       "      <td>40.3778</td>\n",
       "      <td>-3.7892</td>\n",
       "      <td>MADRID/CUATROVIENTOS</td>\n",
       "    </tr>\n",
       "  </tbody>\n",
       "</table>\n",
       "</div>"
      ],
      "text/plain": [
       "    asciicity           id      lat     lng                            name\n",
       "668       MAD  SPE00120287  40.3778 -3.7892  MADRID/CUATROVIENTOS          "
      ]
     },
     "execution_count": 31,
     "metadata": {},
     "output_type": "execute_result"
    }
   ],
   "source": [
    "#Example with Madrid\n",
    "citiesdf[citiesdf[\"asciicity\"].str.contains(\"MAD\")]"
   ]
  },
  {
   "cell_type": "code",
   "execution_count": 32,
   "metadata": {},
   "outputs": [
    {
     "data": {
      "text/html": [
       "<div>\n",
       "<style>\n",
       "    .dataframe thead tr:only-child th {\n",
       "        text-align: right;\n",
       "    }\n",
       "\n",
       "    .dataframe thead th {\n",
       "        text-align: left;\n",
       "    }\n",
       "\n",
       "    .dataframe tbody tr th {\n",
       "        vertical-align: top;\n",
       "    }\n",
       "</style>\n",
       "<table border=\"1\" class=\"dataframe\">\n",
       "  <thead>\n",
       "    <tr style=\"text-align: right;\">\n",
       "      <th></th>\n",
       "      <th>asciicity</th>\n",
       "      <th>id</th>\n",
       "      <th>lat</th>\n",
       "      <th>lng</th>\n",
       "      <th>name</th>\n",
       "    </tr>\n",
       "  </thead>\n",
       "  <tbody>\n",
       "    <tr>\n",
       "      <th>36</th>\n",
       "      <td>ALA</td>\n",
       "      <td>KZ000036870</td>\n",
       "      <td>43.2331</td>\n",
       "      <td>76.9331</td>\n",
       "      <td>ALMATY</td>\n",
       "    </tr>\n",
       "    <tr>\n",
       "      <th>753</th>\n",
       "      <td>NAK</td>\n",
       "      <td>TH000048431</td>\n",
       "      <td>14.9670</td>\n",
       "      <td>102.0830</td>\n",
       "      <td>NAKHON RATCHASIMA</td>\n",
       "    </tr>\n",
       "    <tr>\n",
       "      <th>18</th>\n",
       "      <td>AEB</td>\n",
       "      <td>CHM00059211</td>\n",
       "      <td>23.9000</td>\n",
       "      <td>106.6000</td>\n",
       "      <td>BAISE</td>\n",
       "    </tr>\n",
       "    <tr>\n",
       "      <th>86</th>\n",
       "      <td>BEY</td>\n",
       "      <td>LEM00040100</td>\n",
       "      <td>33.8210</td>\n",
       "      <td>35.4880</td>\n",
       "      <td>RAFIC HARIRI INTL</td>\n",
       "    </tr>\n",
       "    <tr>\n",
       "      <th>970</th>\n",
       "      <td>SGZ</td>\n",
       "      <td>TH000048568</td>\n",
       "      <td>7.2000</td>\n",
       "      <td>100.6170</td>\n",
       "      <td>SONGKHLA</td>\n",
       "    </tr>\n",
       "  </tbody>\n",
       "</table>\n",
       "</div>"
      ],
      "text/plain": [
       "    asciicity           id      lat       lng                            name\n",
       "36        ALA  KZ000036870  43.2331   76.9331  ALMATY                        \n",
       "753       NAK  TH000048431  14.9670  102.0830  NAKHON RATCHASIMA             \n",
       "18        AEB  CHM00059211  23.9000  106.6000  BAISE                         \n",
       "86        BEY  LEM00040100  33.8210   35.4880  RAFIC HARIRI INTL             \n",
       "970       SGZ  TH000048568   7.2000  100.6170  SONGKHLA                      "
      ]
     },
     "execution_count": 32,
     "metadata": {},
     "output_type": "execute_result"
    }
   ],
   "source": [
    "citiesdf.sample(5)"
   ]
  },
  {
   "cell_type": "markdown",
   "metadata": {},
   "source": [
    "# Now we can extract the temperature data for any city by its iata code"
   ]
  },
  {
   "cell_type": "code",
   "execution_count": 33,
   "metadata": {},
   "outputs": [
    {
     "data": {
      "text/html": [
       "<div>\n",
       "<style>\n",
       "    .dataframe thead tr:only-child th {\n",
       "        text-align: right;\n",
       "    }\n",
       "\n",
       "    .dataframe thead th {\n",
       "        text-align: left;\n",
       "    }\n",
       "\n",
       "    .dataframe tbody tr th {\n",
       "        vertical-align: top;\n",
       "    }\n",
       "</style>\n",
       "<table border=\"1\" class=\"dataframe\">\n",
       "  <thead>\n",
       "    <tr style=\"text-align: right;\">\n",
       "      <th></th>\n",
       "      <th>asciicity</th>\n",
       "      <th>id</th>\n",
       "      <th>lat</th>\n",
       "      <th>lng</th>\n",
       "      <th>name</th>\n",
       "    </tr>\n",
       "  </thead>\n",
       "  <tbody>\n",
       "    <tr>\n",
       "      <th>834</th>\n",
       "      <td>PAR</td>\n",
       "      <td>FR000007150</td>\n",
       "      <td>48.8231</td>\n",
       "      <td>2.3367</td>\n",
       "      <td>PARIS/LE BOURGET</td>\n",
       "    </tr>\n",
       "  </tbody>\n",
       "</table>\n",
       "</div>"
      ],
      "text/plain": [
       "    asciicity           id      lat     lng                            name\n",
       "834       PAR  FR000007150  48.8231  2.3367  PARIS/LE BOURGET              "
      ]
     },
     "execution_count": 33,
     "metadata": {},
     "output_type": "execute_result"
    }
   ],
   "source": [
    "citiesdf[citiesdf[\"asciicity\"]==\"PAR\"]"
   ]
  },
  {
   "cell_type": "code",
   "execution_count": 38,
   "metadata": {},
   "outputs": [
    {
     "data": {
      "text/plain": [
       "'FR000007150'"
      ]
     },
     "execution_count": 38,
     "metadata": {},
     "output_type": "execute_result"
    }
   ],
   "source": [
    "#First we find the id of the station assigend to Madrid\n",
    "code = citiesdf[citiesdf[\"asciicity\"]==\"PAR\"][\"id\"].values[0]\n",
    "code"
   ]
  },
  {
   "cell_type": "code",
   "execution_count": 39,
   "metadata": {},
   "outputs": [
    {
     "data": {
      "text/html": [
       "<div>\n",
       "<style>\n",
       "    .dataframe thead tr:only-child th {\n",
       "        text-align: right;\n",
       "    }\n",
       "\n",
       "    .dataframe thead th {\n",
       "        text-align: left;\n",
       "    }\n",
       "\n",
       "    .dataframe tbody tr th {\n",
       "        vertical-align: top;\n",
       "    }\n",
       "</style>\n",
       "<table border=\"1\" class=\"dataframe\">\n",
       "  <thead>\n",
       "    <tr style=\"text-align: right;\">\n",
       "      <th></th>\n",
       "      <th>index</th>\n",
       "      <th>id</th>\n",
       "      <th>date</th>\n",
       "      <th>type</th>\n",
       "      <th>Value1</th>\n",
       "      <th>Value2</th>\n",
       "      <th>Value3</th>\n",
       "      <th>Value4</th>\n",
       "      <th>Value5</th>\n",
       "    </tr>\n",
       "  </thead>\n",
       "  <tbody>\n",
       "    <tr>\n",
       "      <th>102</th>\n",
       "      <td>10047718</td>\n",
       "      <td>FR000007150</td>\n",
       "      <td>20160412</td>\n",
       "      <td>TAVG</td>\n",
       "      <td>11.4</td>\n",
       "      <td>H</td>\n",
       "      <td>NaN</td>\n",
       "      <td>S</td>\n",
       "      <td>NaN</td>\n",
       "    </tr>\n",
       "    <tr>\n",
       "      <th>183</th>\n",
       "      <td>17791832</td>\n",
       "      <td>FR000007150</td>\n",
       "      <td>20160702</td>\n",
       "      <td>TAVG</td>\n",
       "      <td>16.7</td>\n",
       "      <td>H</td>\n",
       "      <td>NaN</td>\n",
       "      <td>S</td>\n",
       "      <td>NaN</td>\n",
       "    </tr>\n",
       "    <tr>\n",
       "      <th>6</th>\n",
       "      <td>665710</td>\n",
       "      <td>FR000007150</td>\n",
       "      <td>20160107</td>\n",
       "      <td>TAVG</td>\n",
       "      <td>8.1</td>\n",
       "      <td>H</td>\n",
       "      <td>NaN</td>\n",
       "      <td>S</td>\n",
       "      <td>NaN</td>\n",
       "    </tr>\n",
       "    <tr>\n",
       "      <th>271</th>\n",
       "      <td>26164787</td>\n",
       "      <td>FR000007150</td>\n",
       "      <td>20160928</td>\n",
       "      <td>TAVG</td>\n",
       "      <td>18.9</td>\n",
       "      <td>H</td>\n",
       "      <td>NaN</td>\n",
       "      <td>S</td>\n",
       "      <td>NaN</td>\n",
       "    </tr>\n",
       "    <tr>\n",
       "      <th>286</th>\n",
       "      <td>27594809</td>\n",
       "      <td>FR000007150</td>\n",
       "      <td>20161013</td>\n",
       "      <td>TAVG</td>\n",
       "      <td>9.1</td>\n",
       "      <td>H</td>\n",
       "      <td>NaN</td>\n",
       "      <td>S</td>\n",
       "      <td>NaN</td>\n",
       "    </tr>\n",
       "  </tbody>\n",
       "</table>\n",
       "</div>"
      ],
      "text/plain": [
       "        index           id      date  type  Value1 Value2 Value3 Value4  \\\n",
       "102  10047718  FR000007150  20160412  TAVG    11.4      H    NaN      S   \n",
       "183  17791832  FR000007150  20160702  TAVG    16.7      H    NaN      S   \n",
       "6      665710  FR000007150  20160107  TAVG     8.1      H    NaN      S   \n",
       "271  26164787  FR000007150  20160928  TAVG    18.9      H    NaN      S   \n",
       "286  27594809  FR000007150  20161013  TAVG     9.1      H    NaN      S   \n",
       "\n",
       "     Value5  \n",
       "102     NaN  \n",
       "183     NaN  \n",
       "6       NaN  \n",
       "271     NaN  \n",
       "286     NaN  "
      ]
     },
     "execution_count": 39,
     "metadata": {},
     "output_type": "execute_result"
    }
   ],
   "source": [
    "#Now we extract the data from the climate table\n",
    "datatavg = weatherdf[(weatherdf[\"id\"]==code)&(weatherdf[\"type\"]==\"TAVG\")].sort_values(\"date\")\n",
    "datatavg[\"Value1\"]=datatavg[\"Value1\"]/10\n",
    "datatavg = datatavg.reset_index()\n",
    "datatavg.sample(5)"
   ]
  },
  {
   "cell_type": "code",
   "execution_count": 40,
   "metadata": {},
   "outputs": [
    {
     "data": {
      "image/png": "[encoded data removed]",
      "text/plain": [
       "<matplotlib.figure.Figure at 0x1af7ff6ccf8>"
      ]
     },
     "metadata": {},
     "output_type": "display_data"
    }
   ],
   "source": [
    "plt.figure(figsize=(20,10))\n",
    "x = range(len(datatavg))\n",
    "plt.plot(x,datatavg[\"Value1\"])\n",
    "plt.xticks(x, datatavg[\"date\"], rotation='45')\n",
    "plt.show()"
   ]
  },
  {
   "cell_type": "markdown",
   "metadata": {},
   "source": [
    "## Saving the cities data in a csv"
   ]
  },
  {
   "cell_type": "code",
   "execution_count": 57,
   "metadata": {},
   "outputs": [
    {
     "data": {
      "text/html": [
       "<div>\n",
       "<style>\n",
       "    .dataframe thead tr:only-child th {\n",
       "        text-align: right;\n",
       "    }\n",
       "\n",
       "    .dataframe thead th {\n",
       "        text-align: left;\n",
       "    }\n",
       "\n",
       "    .dataframe tbody tr th {\n",
       "        vertical-align: top;\n",
       "    }\n",
       "</style>\n",
       "<table border=\"1\" class=\"dataframe\">\n",
       "  <thead>\n",
       "    <tr style=\"text-align: right;\">\n",
       "      <th></th>\n",
       "      <th>asciicity</th>\n",
       "      <th>id</th>\n",
       "      <th>lat</th>\n",
       "      <th>lng</th>\n",
       "      <th>name</th>\n",
       "    </tr>\n",
       "  </thead>\n",
       "  <tbody>\n",
       "    <tr>\n",
       "      <th>0</th>\n",
       "      <td>AAC</td>\n",
       "      <td>EGM00062337</td>\n",
       "      <td>31.0730</td>\n",
       "      <td>33.8360</td>\n",
       "      <td>EL ARISH INTL</td>\n",
       "    </tr>\n",
       "    <tr>\n",
       "      <th>1</th>\n",
       "      <td>AAE</td>\n",
       "      <td>AGM00060360</td>\n",
       "      <td>36.8220</td>\n",
       "      <td>7.8090</td>\n",
       "      <td>ANNABA</td>\n",
       "    </tr>\n",
       "    <tr>\n",
       "      <th>2</th>\n",
       "      <td>AAL</td>\n",
       "      <td>DAM00006030</td>\n",
       "      <td>57.0930</td>\n",
       "      <td>9.8490</td>\n",
       "      <td>FLYVESTATION AALBORG</td>\n",
       "    </tr>\n",
       "    <tr>\n",
       "      <th>3</th>\n",
       "      <td>AAQ</td>\n",
       "      <td>RSM00037001</td>\n",
       "      <td>44.9000</td>\n",
       "      <td>37.3000</td>\n",
       "      <td>ANAPA</td>\n",
       "    </tr>\n",
       "    <tr>\n",
       "      <th>4</th>\n",
       "      <td>ABC</td>\n",
       "      <td>SP000008280</td>\n",
       "      <td>38.9519</td>\n",
       "      <td>-1.8631</td>\n",
       "      <td>ALBACETE LOS LLANOS</td>\n",
       "    </tr>\n",
       "  </tbody>\n",
       "</table>\n",
       "</div>"
      ],
      "text/plain": [
       "  asciicity           id      lat      lng                            name\n",
       "0       AAC  EGM00062337  31.0730  33.8360  EL ARISH INTL                 \n",
       "1       AAE  AGM00060360  36.8220   7.8090  ANNABA                        \n",
       "2       AAL  DAM00006030  57.0930   9.8490  FLYVESTATION AALBORG          \n",
       "3       AAQ  RSM00037001  44.9000  37.3000  ANAPA                         \n",
       "4       ABC  SP000008280  38.9519  -1.8631  ALBACETE LOS LLANOS           "
      ]
     },
     "execution_count": 57,
     "metadata": {},
     "output_type": "execute_result"
    }
   ],
   "source": [
    "citiesdf.head()"
   ]
  },
  {
   "cell_type": "code",
   "execution_count": 58,
   "metadata": {},
   "outputs": [
    {
     "data": {
      "text/html": [
       "<div>\n",
       "<style>\n",
       "    .dataframe thead tr:only-child th {\n",
       "        text-align: right;\n",
       "    }\n",
       "\n",
       "    .dataframe thead th {\n",
       "        text-align: left;\n",
       "    }\n",
       "\n",
       "    .dataframe tbody tr th {\n",
       "        vertical-align: top;\n",
       "    }\n",
       "</style>\n",
       "<table border=\"1\" class=\"dataframe\">\n",
       "  <thead>\n",
       "    <tr style=\"text-align: right;\">\n",
       "      <th></th>\n",
       "      <th>id</th>\n",
       "      <th>date</th>\n",
       "      <th>type</th>\n",
       "      <th>Value1</th>\n",
       "      <th>Value2</th>\n",
       "      <th>Value3</th>\n",
       "      <th>Value4</th>\n",
       "      <th>Value5</th>\n",
       "    </tr>\n",
       "  </thead>\n",
       "  <tbody>\n",
       "    <tr>\n",
       "      <th>0</th>\n",
       "      <td>US1MNCV0008</td>\n",
       "      <td>20160101</td>\n",
       "      <td>PRCP</td>\n",
       "      <td>0</td>\n",
       "      <td>T</td>\n",
       "      <td>NaN</td>\n",
       "      <td>N</td>\n",
       "      <td>NaN</td>\n",
       "    </tr>\n",
       "    <tr>\n",
       "      <th>1</th>\n",
       "      <td>US1MNCV0008</td>\n",
       "      <td>20160101</td>\n",
       "      <td>SNOW</td>\n",
       "      <td>0</td>\n",
       "      <td>T</td>\n",
       "      <td>NaN</td>\n",
       "      <td>N</td>\n",
       "      <td>NaN</td>\n",
       "    </tr>\n",
       "    <tr>\n",
       "      <th>2</th>\n",
       "      <td>US1MNCV0008</td>\n",
       "      <td>20160101</td>\n",
       "      <td>SNWD</td>\n",
       "      <td>127</td>\n",
       "      <td>NaN</td>\n",
       "      <td>NaN</td>\n",
       "      <td>N</td>\n",
       "      <td>NaN</td>\n",
       "    </tr>\n",
       "    <tr>\n",
       "      <th>3</th>\n",
       "      <td>CA1AB000023</td>\n",
       "      <td>20160101</td>\n",
       "      <td>PRCP</td>\n",
       "      <td>0</td>\n",
       "      <td>NaN</td>\n",
       "      <td>NaN</td>\n",
       "      <td>N</td>\n",
       "      <td>NaN</td>\n",
       "    </tr>\n",
       "    <tr>\n",
       "      <th>4</th>\n",
       "      <td>CA1AB000023</td>\n",
       "      <td>20160101</td>\n",
       "      <td>SNOW</td>\n",
       "      <td>0</td>\n",
       "      <td>NaN</td>\n",
       "      <td>NaN</td>\n",
       "      <td>N</td>\n",
       "      <td>NaN</td>\n",
       "    </tr>\n",
       "  </tbody>\n",
       "</table>\n",
       "</div>"
      ],
      "text/plain": [
       "            id      date  type  Value1 Value2 Value3 Value4  Value5\n",
       "0  US1MNCV0008  20160101  PRCP       0      T    NaN      N     NaN\n",
       "1  US1MNCV0008  20160101  SNOW       0      T    NaN      N     NaN\n",
       "2  US1MNCV0008  20160101  SNWD     127    NaN    NaN      N     NaN\n",
       "3  CA1AB000023  20160101  PRCP       0    NaN    NaN      N     NaN\n",
       "4  CA1AB000023  20160101  SNOW       0    NaN    NaN      N     NaN"
      ]
     },
     "execution_count": 58,
     "metadata": {},
     "output_type": "execute_result"
    }
   ],
   "source": [
    "weatherdf.head()"
   ]
  },
  {
   "cell_type": "code",
   "execution_count": 59,
   "metadata": {},
   "outputs": [
    {
     "data": {
      "text/html": [
       "<div>\n",
       "<style>\n",
       "    .dataframe thead tr:only-child th {\n",
       "        text-align: right;\n",
       "    }\n",
       "\n",
       "    .dataframe thead th {\n",
       "        text-align: left;\n",
       "    }\n",
       "\n",
       "    .dataframe tbody tr th {\n",
       "        vertical-align: top;\n",
       "    }\n",
       "</style>\n",
       "<table border=\"1\" class=\"dataframe\">\n",
       "  <thead>\n",
       "    <tr style=\"text-align: right;\">\n",
       "      <th></th>\n",
       "      <th>id</th>\n",
       "      <th>date</th>\n",
       "      <th>type</th>\n",
       "      <th>Value1</th>\n",
       "      <th>Value2</th>\n",
       "      <th>Value3</th>\n",
       "      <th>Value4</th>\n",
       "      <th>Value5</th>\n",
       "      <th>asciicity</th>\n",
       "      <th>lat</th>\n",
       "      <th>lng</th>\n",
       "      <th>name</th>\n",
       "    </tr>\n",
       "  </thead>\n",
       "  <tbody>\n",
       "    <tr>\n",
       "      <th>0</th>\n",
       "      <td>UVM00065518</td>\n",
       "      <td>20160101</td>\n",
       "      <td>TAVG</td>\n",
       "      <td>238</td>\n",
       "      <td>H</td>\n",
       "      <td>NaN</td>\n",
       "      <td>S</td>\n",
       "      <td>NaN</td>\n",
       "      <td>PUP</td>\n",
       "      <td>11.15</td>\n",
       "      <td>-1.15</td>\n",
       "      <td>PO</td>\n",
       "    </tr>\n",
       "    <tr>\n",
       "      <th>1</th>\n",
       "      <td>UVM00065518</td>\n",
       "      <td>20160102</td>\n",
       "      <td>TAVG</td>\n",
       "      <td>238</td>\n",
       "      <td>H</td>\n",
       "      <td>NaN</td>\n",
       "      <td>S</td>\n",
       "      <td>NaN</td>\n",
       "      <td>PUP</td>\n",
       "      <td>11.15</td>\n",
       "      <td>-1.15</td>\n",
       "      <td>PO</td>\n",
       "    </tr>\n",
       "    <tr>\n",
       "      <th>2</th>\n",
       "      <td>UVM00065518</td>\n",
       "      <td>20160103</td>\n",
       "      <td>TAVG</td>\n",
       "      <td>236</td>\n",
       "      <td>H</td>\n",
       "      <td>NaN</td>\n",
       "      <td>S</td>\n",
       "      <td>NaN</td>\n",
       "      <td>PUP</td>\n",
       "      <td>11.15</td>\n",
       "      <td>-1.15</td>\n",
       "      <td>PO</td>\n",
       "    </tr>\n",
       "    <tr>\n",
       "      <th>3</th>\n",
       "      <td>UVM00065518</td>\n",
       "      <td>20160104</td>\n",
       "      <td>TAVG</td>\n",
       "      <td>236</td>\n",
       "      <td>H</td>\n",
       "      <td>NaN</td>\n",
       "      <td>S</td>\n",
       "      <td>NaN</td>\n",
       "      <td>PUP</td>\n",
       "      <td>11.15</td>\n",
       "      <td>-1.15</td>\n",
       "      <td>PO</td>\n",
       "    </tr>\n",
       "    <tr>\n",
       "      <th>4</th>\n",
       "      <td>UVM00065518</td>\n",
       "      <td>20160105</td>\n",
       "      <td>TAVG</td>\n",
       "      <td>239</td>\n",
       "      <td>H</td>\n",
       "      <td>NaN</td>\n",
       "      <td>S</td>\n",
       "      <td>NaN</td>\n",
       "      <td>PUP</td>\n",
       "      <td>11.15</td>\n",
       "      <td>-1.15</td>\n",
       "      <td>PO</td>\n",
       "    </tr>\n",
       "  </tbody>\n",
       "</table>\n",
       "</div>"
      ],
      "text/plain": [
       "            id      date  type  Value1 Value2 Value3 Value4  Value5 asciicity  \\\n",
       "0  UVM00065518  20160101  TAVG     238      H    NaN      S     NaN       PUP   \n",
       "1  UVM00065518  20160102  TAVG     238      H    NaN      S     NaN       PUP   \n",
       "2  UVM00065518  20160103  TAVG     236      H    NaN      S     NaN       PUP   \n",
       "3  UVM00065518  20160104  TAVG     236      H    NaN      S     NaN       PUP   \n",
       "4  UVM00065518  20160105  TAVG     239      H    NaN      S     NaN       PUP   \n",
       "\n",
       "     lat   lng                            name  \n",
       "0  11.15 -1.15  PO                              \n",
       "1  11.15 -1.15  PO                              \n",
       "2  11.15 -1.15  PO                              \n",
       "3  11.15 -1.15  PO                              \n",
       "4  11.15 -1.15  PO                              "
      ]
     },
     "execution_count": 59,
     "metadata": {},
     "output_type": "execute_result"
    }
   ],
   "source": [
    "temp_cities = weatherdf[weatherdf[\"type\"]==\"TAVG\"].merge(citiesdf,left_on=\"id\",right_on=\"id\")\n",
    "temp_cities.head()"
   ]
  },
  {
   "cell_type": "code",
   "execution_count": 63,
   "metadata": {},
   "outputs": [],
   "source": [
    "temp_cities[\"Value1\"]/=10"
   ]
  },
  {
   "cell_type": "code",
   "execution_count": 65,
   "metadata": {},
   "outputs": [],
   "source": [
    "temp_cities.to_csv(\"worldTemperatures.csv\")"
   ]
  },
  {
   "cell_type": "code",
   "execution_count": null,
   "metadata": {},
   "outputs": [],
   "source": []
  }
 ],
 "metadata": {
  "kernelspec": {
   "display_name": "Python 3",
   "language": "python",
   "name": "python3"
  },
  "language_info": {
   "codemirror_mode": {
    "name": "ipython",
    "version": 3
   },
   "file_extension": ".py",
   "mimetype": "text/x-python",
   "name": "python",
   "nbconvert_exporter": "python",
   "pygments_lexer": "ipython3",
   "version": "3.6.3"
  }
 },
 "nbformat": 4,
 "nbformat_minor": 1
}
