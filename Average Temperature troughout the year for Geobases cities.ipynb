{
 "cells": [
  {
   "cell_type": "markdown",
   "metadata": {},
   "source": [
    "## Overview\n",
    "\n",
    "We would like to get a database with an history of the average temperature per day in the main world cities. We would use the geobases database to get a list of cities and the climate data in the daily GHCN database.\n",
    "Therefore, we will extract the nearest weather station WITH temperature data to a city in the geobases list."
   ]
  },
  {
   "cell_type": "code",
   "execution_count": 1,
   "metadata": {},
   "outputs": [
    {
     "name": "stderr",
     "output_type": "stream",
     "text": [
      "'wget' is not recognized as an internal or external command,\n",
      "operable program or batch file.\n"
     ]
    }
   ],
   "source": [
    "#Getting the climate data\n",
    "!wget http://www1.ncdc.noaa.gov/pub/data/ghcn/daily/by_year/2016.csv.gz"
   ]
  },
  {
   "cell_type": "code",
   "execution_count": 2,
   "metadata": {},
   "outputs": [
    {
     "name": "stderr",
     "output_type": "stream",
     "text": [
      "'gunzip' is not recognized as an internal or external command,\n",
      "operable program or batch file.\n"
     ]
    }
   ],
   "source": [
    "#Unzip the 2016 data\n",
    "!gunzip 2016.csv.gz"
   ]
  },
  {
   "cell_type": "code",
   "execution_count": 3,
   "metadata": {},
   "outputs": [
    {
     "name": "stderr",
     "output_type": "stream",
     "text": [
      "'wget' is not recognized as an internal or external command,\n",
      "operable program or batch file.\n"
     ]
    }
   ],
   "source": [
    "#Get the stations data\n",
    "!wget http://www1.ncdc.noaa.gov/pub/data/ghcn/daily/ghcnd-stations.txt -O stations.txt"
   ]
  },
  {
   "cell_type": "code",
   "execution_count": 64,
   "metadata": {},
   "outputs": [],
   "source": [
    "import pandas as pd"
   ]
  },
  {
   "cell_type": "markdown",
   "metadata": {},
   "source": [
    "## Load and parsing of stations data\n",
    "\n",
    "We load the stations data description and extract the information we need: id, coordinates and city name"
   ]
  },
  {
   "cell_type": "code",
   "execution_count": 65,
   "metadata": {},
   "outputs": [
    {
     "name": "stderr",
     "output_type": "stream",
     "text": [
      "'cat' is not recognized as an internal or external command,\n",
      "operable program or batch file.\n"
     ]
    }
   ],
   "source": [
    "#List of stations\n",
    "!cat stations.txt | head -n 10"
   ]
  },
  {
   "cell_type": "code",
   "execution_count": 66,
   "metadata": {},
   "outputs": [],
   "source": [
    "stationstxt = \"\"\n",
    "with open(\"stations.txt\") as input:\n",
    "    stationstxt = input.read()"
   ]
  },
  {
   "cell_type": "code",
   "execution_count": 67,
   "metadata": {},
   "outputs": [],
   "source": [
    "#Extract the data from file\n",
    "stations = stationstxt.split(\"\\n\")\n",
    "\n",
    "#Remove last line\n",
    "stations = stations[:-1]\n",
    "\n",
    "stations = list(map(lambda line: [line[0:11],float(line[13:20]),float(line[22:30]),line[41:71]], stations))"
   ]
  },
  {
   "cell_type": "code",
   "execution_count": 68,
   "metadata": {},
   "outputs": [
    {
     "data": {
      "text/plain": [
       "106283"
      ]
     },
     "execution_count": 68,
     "metadata": {},
     "output_type": "execute_result"
    }
   ],
   "source": [
    "len(stations)"
   ]
  },
  {
   "cell_type": "code",
   "execution_count": 69,
   "metadata": {
    "scrolled": false
   },
   "outputs": [
    {
     "data": {
      "text/plain": [
       "[['ACW00011604', 17.1167, -61.7833, 'ST JOHNS COOLIDGE FLD         '],\n",
       " ['ACW00011647', 17.1333, -61.7833, 'ST JOHNS                      '],\n",
       " ['AE000041196', 25.333, 55.517, 'SHARJAH INTER. AIRP           '],\n",
       " ['AEM00041194', 25.255, 55.364, 'DUBAI INTL                    '],\n",
       " ['AEM00041217', 24.433, 54.651, 'ABU DHABI INTL                ']]"
      ]
     },
     "execution_count": 69,
     "metadata": {},
     "output_type": "execute_result"
    }
   ],
   "source": [
    "stations[:5]"
   ]
  },
  {
   "cell_type": "markdown",
   "metadata": {},
   "source": [
    "## Selection of stations with temperature data\n",
    "\n",
    "We read the climate data file, select only the lines with temperature data TAVG and extract the list of stations."
   ]
  },
  {
   "cell_type": "code",
   "execution_count": 70,
   "metadata": {},
   "outputs": [
    {
     "name": "stderr",
     "output_type": "stream",
     "text": [
      "'cat' is not recognized as an internal or external command,\n",
      "operable program or batch file.\n"
     ]
    }
   ],
   "source": [
    "!cat 2016.csv | head -n 10"
   ]
  },
  {
   "cell_type": "code",
   "execution_count": 71,
   "metadata": {},
   "outputs": [
    {
     "data": {
      "text/html": [
       "<div>\n",
       "<style>\n",
       "    .dataframe thead tr:only-child th {\n",
       "        text-align: right;\n",
       "    }\n",
       "\n",
       "    .dataframe thead th {\n",
       "        text-align: left;\n",
       "    }\n",
       "\n",
       "    .dataframe tbody tr th {\n",
       "        vertical-align: top;\n",
       "    }\n",
       "</style>\n",
       "<table border=\"1\" class=\"dataframe\">\n",
       "  <thead>\n",
       "    <tr style=\"text-align: right;\">\n",
       "      <th></th>\n",
       "      <th>id</th>\n",
       "      <th>date</th>\n",
       "      <th>type</th>\n",
       "      <th>Value1</th>\n",
       "      <th>Value2</th>\n",
       "      <th>Value3</th>\n",
       "      <th>Value4</th>\n",
       "      <th>Value5</th>\n",
       "    </tr>\n",
       "  </thead>\n",
       "  <tbody>\n",
       "    <tr>\n",
       "      <th>0</th>\n",
       "      <td>US1MNCV0008</td>\n",
       "      <td>20160101</td>\n",
       "      <td>PRCP</td>\n",
       "      <td>0</td>\n",
       "      <td>T</td>\n",
       "      <td>NaN</td>\n",
       "      <td>N</td>\n",
       "      <td>NaN</td>\n",
       "    </tr>\n",
       "    <tr>\n",
       "      <th>1</th>\n",
       "      <td>US1MNCV0008</td>\n",
       "      <td>20160101</td>\n",
       "      <td>SNOW</td>\n",
       "      <td>0</td>\n",
       "      <td>T</td>\n",
       "      <td>NaN</td>\n",
       "      <td>N</td>\n",
       "      <td>NaN</td>\n",
       "    </tr>\n",
       "    <tr>\n",
       "      <th>2</th>\n",
       "      <td>US1MNCV0008</td>\n",
       "      <td>20160101</td>\n",
       "      <td>SNWD</td>\n",
       "      <td>127</td>\n",
       "      <td>NaN</td>\n",
       "      <td>NaN</td>\n",
       "      <td>N</td>\n",
       "      <td>NaN</td>\n",
       "    </tr>\n",
       "    <tr>\n",
       "      <th>3</th>\n",
       "      <td>CA1AB000023</td>\n",
       "      <td>20160101</td>\n",
       "      <td>PRCP</td>\n",
       "      <td>0</td>\n",
       "      <td>NaN</td>\n",
       "      <td>NaN</td>\n",
       "      <td>N</td>\n",
       "      <td>NaN</td>\n",
       "    </tr>\n",
       "    <tr>\n",
       "      <th>4</th>\n",
       "      <td>CA1AB000023</td>\n",
       "      <td>20160101</td>\n",
       "      <td>SNOW</td>\n",
       "      <td>0</td>\n",
       "      <td>NaN</td>\n",
       "      <td>NaN</td>\n",
       "      <td>N</td>\n",
       "      <td>NaN</td>\n",
       "    </tr>\n",
       "  </tbody>\n",
       "</table>\n",
       "</div>"
      ],
      "text/plain": [
       "            id      date  type  Value1 Value2 Value3 Value4  Value5\n",
       "0  US1MNCV0008  20160101  PRCP       0      T    NaN      N     NaN\n",
       "1  US1MNCV0008  20160101  SNOW       0      T    NaN      N     NaN\n",
       "2  US1MNCV0008  20160101  SNWD     127    NaN    NaN      N     NaN\n",
       "3  CA1AB000023  20160101  PRCP       0    NaN    NaN      N     NaN\n",
       "4  CA1AB000023  20160101  SNOW       0    NaN    NaN      N     NaN"
      ]
     },
     "execution_count": 71,
     "metadata": {},
     "output_type": "execute_result"
    }
   ],
   "source": [
    "weatherdf = pd.read_csv(\"2016.csv\",header=None)\n",
    "weatherdf.columns = [\"id\",\"date\",\"type\",\"Value1\",\"Value2\",\"Value3\",\"Value4\",\"Value5\"]\n",
    "weatherdf.head()"
   ]
  },
  {
   "cell_type": "code",
   "execution_count": 72,
   "metadata": {},
   "outputs": [
    {
     "data": {
      "text/plain": [
       "366"
      ]
     },
     "execution_count": 72,
     "metadata": {},
     "output_type": "execute_result"
    }
   ],
   "source": [
    "#Get total number of days\n",
    "days = len(weatherdf.groupby(\"date\").groups.keys())\n",
    "days"
   ]
  },
  {
   "cell_type": "code",
   "execution_count": 73,
   "metadata": {},
   "outputs": [
    {
     "data": {
      "text/plain": [
       "dict_keys(['AWDR', 'AWND', 'DAPR', 'DASF', 'DATN', 'DATX', 'DWPR', 'EVAP', 'MDPR', 'MDSF', 'MDTN', 'MDTX', 'MNPN', 'MXPN', 'PGTM', 'PRCP', 'PSUN', 'SN31', 'SN32', 'SN33', 'SN35', 'SN36', 'SN51', 'SN52', 'SN53', 'SN55', 'SN56', 'SNOW', 'SNWD', 'SX31', 'SX32', 'SX33', 'SX35', 'SX36', 'SX51', 'SX52', 'SX53', 'SX55', 'SX56', 'TAVG', 'THIC', 'TMAX', 'TMIN', 'TOBS', 'TSUN', 'WDF2', 'WDF5', 'WDFG', 'WDMV', 'WESD', 'WESF', 'WSF2', 'WSF5', 'WSFG', 'WSFI', 'WT01', 'WT02', 'WT03', 'WT04', 'WT05', 'WT06', 'WT07', 'WT08', 'WT09', 'WT10', 'WT11', 'WT17', 'WT18'])"
      ]
     },
     "execution_count": 73,
     "metadata": {},
     "output_type": "execute_result"
    }
   ],
   "source": [
    "#Check all the types of measures that are done\n",
    "weatherdf.groupby(\"type\").groups.keys()"
   ]
  },
  {
   "cell_type": "code",
   "execution_count": 74,
   "metadata": {},
   "outputs": [],
   "source": [
    "#Let's create a list of stations with the TAVG data\n",
    "stationstavg = weatherdf[weatherdf[\"type\"]==\"TAVG\"].groupby(\"id\")[\"date\"].count()"
   ]
  },
  {
   "cell_type": "code",
   "execution_count": 75,
   "metadata": {},
   "outputs": [
    {
     "data": {
      "text/plain": [
       "7077"
      ]
     },
     "execution_count": 75,
     "metadata": {},
     "output_type": "execute_result"
    }
   ],
   "source": [
    "len(stationstavg)"
   ]
  },
  {
   "cell_type": "code",
   "execution_count": 76,
   "metadata": {},
   "outputs": [
    {
     "name": "stdout",
     "output_type": "stream",
     "text": [
      "Populating the interactive namespace from numpy and matplotlib\n"
     ]
    },
    {
     "data": {
      "image/png": "[encoded data removed]",
      "text/plain": [
       "<matplotlib.figure.Figure at 0x292b83376a0>"
      ]
     },
     "metadata": {},
     "output_type": "display_data"
    }
   ],
   "source": [
    "#We visualize the days covered by the station with temperature data\n",
    "%pylab inline\n",
    "plt.hist(stationstavg)\n",
    "plt.show()"
   ]
  },
  {
   "cell_type": "code",
   "execution_count": 77,
   "metadata": {},
   "outputs": [],
   "source": [
    "stationstavg = stationstavg[stationstavg>45].reset_index()"
   ]
  },
  {
   "cell_type": "markdown",
   "metadata": {},
   "source": [
    "# Merge of the stations list with the temperature stations to get info on the temperature stations"
   ]
  },
  {
   "cell_type": "code",
   "execution_count": 78,
   "metadata": {},
   "outputs": [
    {
     "name": "stdout",
     "output_type": "stream",
     "text": [
      "106283\n",
      "6955\n"
     ]
    }
   ],
   "source": [
    "#We filter the stations and only take the ones with tavg\n",
    "stationsdf = pd.DataFrame(stations)\n",
    "stationsdf.columns = [\"id\",\"lat\",\"lng\",\"name\"]\n",
    "print(len(stationsdf))\n",
    "stationsdf = stationsdf.merge(stationstavg,on=\"id\")[[\"id\",\"lat\",\"lng\",\"name\"]]\n",
    "print(len(stationsdf))\n",
    "stations = stationsdf.values.tolist()"
   ]
  },
  {
   "cell_type": "markdown",
   "metadata": {},
   "source": [
    "## Find the nearest city to each weather station (10km radius)"
   ]
  },
  {
   "cell_type": "code",
   "execution_count": 79,
   "metadata": {},
   "outputs": [],
   "source": [
    "# Let's download the optd_por file\n",
    "optd_por = pd.read_csv(\"https://raw.githubusercontent.com/opentraveldata/opentraveldata/master/opentraveldata/optd_por_public.csv\",sep=\"^\")"
   ]
  },
  {
   "cell_type": "code",
   "execution_count": 80,
   "metadata": {},
   "outputs": [
    {
     "data": {
      "text/plain": [
       "Index(['iata_code', 'icao_code', 'faa_code', 'is_geonames', 'geoname_id',\n",
       "       'envelope_id', 'name', 'asciiname', 'latitude', 'longitude', 'fclass',\n",
       "       'fcode', 'page_rank', 'date_from', 'date_until', 'comment',\n",
       "       'country_code', 'cc2', 'country_name', 'continent_name', 'adm1_code',\n",
       "       'adm1_name_utf', 'adm1_name_ascii', 'adm2_code', 'adm2_name_utf',\n",
       "       'adm2_name_ascii', 'adm3_code', 'adm4_code', 'population', 'elevation',\n",
       "       'gtopo30', 'timezone', 'gmt_offset', 'dst_offset', 'raw_offset',\n",
       "       'moddate', 'city_code_list', 'city_name_list', 'city_detail_list',\n",
       "       'tvl_por_list', 'state_code', 'location_type', 'wiki_link',\n",
       "       'alt_name_section', 'wac', 'wac_name', 'ccy_code'],\n",
       "      dtype='object')"
      ]
     },
     "execution_count": 80,
     "metadata": {},
     "output_type": "execute_result"
    }
   ],
   "source": [
    "optd_por.columns"
   ]
  },
  {
   "cell_type": "code",
   "execution_count": 81,
   "metadata": {},
   "outputs": [],
   "source": [
    "optd_por=optd_por[optd_por[\"location_type\"]==\"C\"]"
   ]
  },
  {
   "cell_type": "code",
   "execution_count": 82,
   "metadata": {},
   "outputs": [],
   "source": [
    "from vincenty import vincenty"
   ]
  },
  {
   "cell_type": "code",
   "execution_count": 83,
   "metadata": {},
   "outputs": [],
   "source": [
    "def getCity(lat,lng):\n",
    "    o2=optd_por.copy()\n",
    "    o2=o2[(o2[\"latitude\"]<lat+1)&(o2[\"latitude\"]>lat-1)&(o2[\"longitude\"]>lng-1)&(o2[\"longitude\"]<lng+1)]\n",
    "    if len(o2)==0:\n",
    "        return \"\"\n",
    "    o2[\"d\"]=o2.apply(lambda row: vincenty((row[\"latitude\"],row[\"longitude\"]),(lat,lng)),1)\n",
    "    res = o2.sort_values(\"d\").head(1)\n",
    "    if res[\"d\"].values[0]>10:\n",
    "        return \"\"\n",
    "    else:\n",
    "        return res['iata_code'].values[0]"
   ]
  },
  {
   "cell_type": "code",
   "execution_count": 84,
   "metadata": {},
   "outputs": [],
   "source": [
    "from tqdm import tqdm_notebook as tqdm"
   ]
  },
  {
   "cell_type": "code",
   "execution_count": 85,
   "metadata": {},
   "outputs": [
    {
     "data": {
      "text/plain": [
       "6955"
      ]
     },
     "execution_count": 85,
     "metadata": {},
     "output_type": "execute_result"
    }
   ],
   "source": [
    "len(list(stations))"
   ]
  },
  {
   "cell_type": "code",
   "execution_count": 86,
   "metadata": {},
   "outputs": [
    {
     "data": {
      "application/vnd.jupyter.widget-view+json": {
       "model_id": "d8d79d7cb4d34d34a95d61696ae00747",
       "version_major": 2,
       "version_minor": 0
      },
      "text/plain": [
       "A Jupyter Widget"
      ]
     },
     "metadata": {},
     "output_type": "display_data"
    },
    {
     "name": "stdout",
     "output_type": "stream",
     "text": [
      "\n"
     ]
    }
   ],
   "source": [
    "stations = list(map(lambda s: s + [getCity(s[1],s[2])],tqdm(stations)))"
   ]
  },
  {
   "cell_type": "code",
   "execution_count": 87,
   "metadata": {},
   "outputs": [
    {
     "data": {
      "text/plain": [
       "[['AE000041196', 25.333, 55.517, 'SHARJAH INTER. AIRP           ', ''],\n",
       " ['AEM00041194', 25.255, 55.364, 'DUBAI INTL                    ', ''],\n",
       " ['AEM00041217', 24.433, 54.651, 'ABU DHABI INTL                ', 'AYM'],\n",
       " ['AEM00041218', 24.262, 55.609, 'AL AIN INTL                   ', ''],\n",
       " ['AFM00040938', 34.21, 62.228, 'HERAT                         ', '']]"
      ]
     },
     "execution_count": 87,
     "metadata": {},
     "output_type": "execute_result"
    }
   ],
   "source": [
    "stations[:5]"
   ]
  },
  {
   "cell_type": "code",
   "execution_count": 88,
   "metadata": {},
   "outputs": [],
   "source": [
    "stationsdf = pd.DataFrame(stations)\n",
    "stationsdf.columns = [\"id\",\"lat\",\"lng\",\"name\",\"asciicity\"]"
   ]
  },
  {
   "cell_type": "code",
   "execution_count": 89,
   "metadata": {},
   "outputs": [],
   "source": [
    "#We take only the stations near a city\n",
    "stationswithcity = stationsdf[stationsdf[\"asciicity\"]!=\"\"]"
   ]
  },
  {
   "cell_type": "code",
   "execution_count": 90,
   "metadata": {},
   "outputs": [
    {
     "data": {
      "text/plain": [
       "6955"
      ]
     },
     "execution_count": 90,
     "metadata": {},
     "output_type": "execute_result"
    }
   ],
   "source": [
    "len(stationsdf)"
   ]
  },
  {
   "cell_type": "code",
   "execution_count": 91,
   "metadata": {},
   "outputs": [
    {
     "data": {
      "text/plain": [
       "1505"
      ]
     },
     "execution_count": 91,
     "metadata": {},
     "output_type": "execute_result"
    }
   ],
   "source": [
    "len(stationswithcity)"
   ]
  },
  {
   "cell_type": "code",
   "execution_count": 92,
   "metadata": {},
   "outputs": [],
   "source": [
    "citiesdf = stationswithcity.groupby(\"asciicity\").first().reset_index()"
   ]
  },
  {
   "cell_type": "code",
   "execution_count": 93,
   "metadata": {},
   "outputs": [
    {
     "data": {
      "text/plain": [
       "1398"
      ]
     },
     "execution_count": 93,
     "metadata": {},
     "output_type": "execute_result"
    }
   ],
   "source": [
    "#Number of cities with one or several weather stations\n",
    "len(citiesdf)"
   ]
  },
  {
   "cell_type": "code",
   "execution_count": 94,
   "metadata": {},
   "outputs": [
    {
     "data": {
      "text/plain": [
       "91416"
      ]
     },
     "execution_count": 94,
     "metadata": {},
     "output_type": "execute_result"
    }
   ],
   "source": [
    "#We write the result to a csv\n",
    "open(\"citiesweather.csv\",\"w\").write(citiesdf.to_csv())"
   ]
  },
  {
   "cell_type": "code",
   "execution_count": 95,
   "metadata": {},
   "outputs": [
    {
     "data": {
      "text/html": [
       "<div>\n",
       "<style>\n",
       "    .dataframe thead tr:only-child th {\n",
       "        text-align: right;\n",
       "    }\n",
       "\n",
       "    .dataframe thead th {\n",
       "        text-align: left;\n",
       "    }\n",
       "\n",
       "    .dataframe tbody tr th {\n",
       "        vertical-align: top;\n",
       "    }\n",
       "</style>\n",
       "<table border=\"1\" class=\"dataframe\">\n",
       "  <thead>\n",
       "    <tr style=\"text-align: right;\">\n",
       "      <th></th>\n",
       "      <th>asciicity</th>\n",
       "      <th>id</th>\n",
       "      <th>lat</th>\n",
       "      <th>lng</th>\n",
       "      <th>name</th>\n",
       "    </tr>\n",
       "  </thead>\n",
       "  <tbody>\n",
       "    <tr>\n",
       "      <th>668</th>\n",
       "      <td>MAD</td>\n",
       "      <td>SPE00120287</td>\n",
       "      <td>40.3778</td>\n",
       "      <td>-3.7892</td>\n",
       "      <td>MADRID/CUATROVIENTOS</td>\n",
       "    </tr>\n",
       "  </tbody>\n",
       "</table>\n",
       "</div>"
      ],
      "text/plain": [
       "    asciicity           id      lat     lng                            name\n",
       "668       MAD  SPE00120287  40.3778 -3.7892  MADRID/CUATROVIENTOS          "
      ]
     },
     "execution_count": 95,
     "metadata": {},
     "output_type": "execute_result"
    }
   ],
   "source": [
    "#Example with Madrid\n",
    "citiesdf[citiesdf[\"asciicity\"].str.contains(\"MAD\")]"
   ]
  },
  {
   "cell_type": "code",
   "execution_count": 96,
   "metadata": {},
   "outputs": [
    {
     "data": {
      "text/html": [
       "<div>\n",
       "<style>\n",
       "    .dataframe thead tr:only-child th {\n",
       "        text-align: right;\n",
       "    }\n",
       "\n",
       "    .dataframe thead th {\n",
       "        text-align: left;\n",
       "    }\n",
       "\n",
       "    .dataframe tbody tr th {\n",
       "        vertical-align: top;\n",
       "    }\n",
       "</style>\n",
       "<table border=\"1\" class=\"dataframe\">\n",
       "  <thead>\n",
       "    <tr style=\"text-align: right;\">\n",
       "      <th></th>\n",
       "      <th>asciicity</th>\n",
       "      <th>id</th>\n",
       "      <th>lat</th>\n",
       "      <th>lng</th>\n",
       "      <th>name</th>\n",
       "    </tr>\n",
       "  </thead>\n",
       "  <tbody>\n",
       "    <tr>\n",
       "      <th>160</th>\n",
       "      <td>CAE</td>\n",
       "      <td>USW00013883</td>\n",
       "      <td>33.9486</td>\n",
       "      <td>-81.1186</td>\n",
       "      <td>COLUMBIA</td>\n",
       "    </tr>\n",
       "    <tr>\n",
       "      <th>526</th>\n",
       "      <td>KEJ</td>\n",
       "      <td>RSM00029642</td>\n",
       "      <td>55.2700</td>\n",
       "      <td>86.1070</td>\n",
       "      <td>KEMEROVO</td>\n",
       "    </tr>\n",
       "    <tr>\n",
       "      <th>333</th>\n",
       "      <td>FNT</td>\n",
       "      <td>USW00014826</td>\n",
       "      <td>42.9667</td>\n",
       "      <td>-83.7494</td>\n",
       "      <td>FLINT BISHOP INTL AP</td>\n",
       "    </tr>\n",
       "    <tr>\n",
       "      <th>216</th>\n",
       "      <td>CQM</td>\n",
       "      <td>SPE00120035</td>\n",
       "      <td>38.9892</td>\n",
       "      <td>-3.9194</td>\n",
       "      <td>CIUDAD REAL</td>\n",
       "    </tr>\n",
       "    <tr>\n",
       "      <th>1230</th>\n",
       "      <td>XBR</td>\n",
       "      <td>CA006100970</td>\n",
       "      <td>44.6333</td>\n",
       "      <td>-75.7500</td>\n",
       "      <td>BROCKVILLE CLIMATE</td>\n",
       "    </tr>\n",
       "  </tbody>\n",
       "</table>\n",
       "</div>"
      ],
      "text/plain": [
       "     asciicity           id      lat      lng                            name\n",
       "160        CAE  USW00013883  33.9486 -81.1186  COLUMBIA                      \n",
       "526        KEJ  RSM00029642  55.2700  86.1070  KEMEROVO                      \n",
       "333        FNT  USW00014826  42.9667 -83.7494  FLINT BISHOP INTL AP          \n",
       "216        CQM  SPE00120035  38.9892  -3.9194  CIUDAD REAL                   \n",
       "1230       XBR  CA006100970  44.6333 -75.7500  BROCKVILLE CLIMATE            "
      ]
     },
     "execution_count": 96,
     "metadata": {},
     "output_type": "execute_result"
    }
   ],
   "source": [
    "citiesdf.sample(5)"
   ]
  },
  {
   "cell_type": "markdown",
   "metadata": {},
   "source": [
    "# Now we can extract the temperature data for any city by its iata code"
   ]
  },
  {
   "cell_type": "code",
   "execution_count": 101,
   "metadata": {},
   "outputs": [
    {
     "data": {
      "text/html": [
       "<div>\n",
       "<style>\n",
       "    .dataframe thead tr:only-child th {\n",
       "        text-align: right;\n",
       "    }\n",
       "\n",
       "    .dataframe thead th {\n",
       "        text-align: left;\n",
       "    }\n",
       "\n",
       "    .dataframe tbody tr th {\n",
       "        vertical-align: top;\n",
       "    }\n",
       "</style>\n",
       "<table border=\"1\" class=\"dataframe\">\n",
       "  <thead>\n",
       "    <tr style=\"text-align: right;\">\n",
       "      <th></th>\n",
       "      <th>asciicity</th>\n",
       "      <th>id</th>\n",
       "      <th>lat</th>\n",
       "      <th>lng</th>\n",
       "      <th>name</th>\n",
       "    </tr>\n",
       "  </thead>\n",
       "  <tbody>\n",
       "    <tr>\n",
       "      <th>834</th>\n",
       "      <td>PAR</td>\n",
       "      <td>FR000007150</td>\n",
       "      <td>48.8231</td>\n",
       "      <td>2.3367</td>\n",
       "      <td>PARIS/LE BOURGET</td>\n",
       "    </tr>\n",
       "  </tbody>\n",
       "</table>\n",
       "</div>"
      ],
      "text/plain": [
       "    asciicity           id      lat     lng                            name\n",
       "834       PAR  FR000007150  48.8231  2.3367  PARIS/LE BOURGET              "
      ]
     },
     "execution_count": 101,
     "metadata": {},
     "output_type": "execute_result"
    }
   ],
   "source": [
    "citiesdf[citiesdf[\"asciicity\"]==\"PAR\"]"
   ]
  },
  {
   "cell_type": "code",
   "execution_count": 102,
   "metadata": {},
   "outputs": [
    {
     "data": {
      "text/plain": [
       "'SPE00120287'"
      ]
     },
     "execution_count": 102,
     "metadata": {},
     "output_type": "execute_result"
    }
   ],
   "source": [
    "#First we find the id of the station assigend to Madrid\n",
    "code = citiesdf[citiesdf[\"asciicity\"]==\"MAD\"][\"id\"].values[0]\n",
    "code"
   ]
  },
  {
   "cell_type": "code",
   "execution_count": 103,
   "metadata": {},
   "outputs": [
    {
     "data": {
      "text/html": [
       "<div>\n",
       "<style>\n",
       "    .dataframe thead tr:only-child th {\n",
       "        text-align: right;\n",
       "    }\n",
       "\n",
       "    .dataframe thead th {\n",
       "        text-align: left;\n",
       "    }\n",
       "\n",
       "    .dataframe tbody tr th {\n",
       "        vertical-align: top;\n",
       "    }\n",
       "</style>\n",
       "<table border=\"1\" class=\"dataframe\">\n",
       "  <thead>\n",
       "    <tr style=\"text-align: right;\">\n",
       "      <th></th>\n",
       "      <th>index</th>\n",
       "      <th>id</th>\n",
       "      <th>date</th>\n",
       "      <th>type</th>\n",
       "      <th>Value1</th>\n",
       "      <th>Value2</th>\n",
       "      <th>Value3</th>\n",
       "      <th>Value4</th>\n",
       "      <th>Value5</th>\n",
       "    </tr>\n",
       "  </thead>\n",
       "  <tbody>\n",
       "    <tr>\n",
       "      <th>159</th>\n",
       "      <td>15484787</td>\n",
       "      <td>SPE00120287</td>\n",
       "      <td>20160608</td>\n",
       "      <td>TAVG</td>\n",
       "      <td>28.9</td>\n",
       "      <td>H</td>\n",
       "      <td>NaN</td>\n",
       "      <td>S</td>\n",
       "      <td>NaN</td>\n",
       "    </tr>\n",
       "    <tr>\n",
       "      <th>131</th>\n",
       "      <td>12828425</td>\n",
       "      <td>SPE00120287</td>\n",
       "      <td>20160511</td>\n",
       "      <td>TAVG</td>\n",
       "      <td>11.3</td>\n",
       "      <td>H</td>\n",
       "      <td>NaN</td>\n",
       "      <td>S</td>\n",
       "      <td>NaN</td>\n",
       "    </tr>\n",
       "    <tr>\n",
       "      <th>138</th>\n",
       "      <td>13494852</td>\n",
       "      <td>SPE00120287</td>\n",
       "      <td>20160518</td>\n",
       "      <td>TAVG</td>\n",
       "      <td>20.7</td>\n",
       "      <td>H</td>\n",
       "      <td>NaN</td>\n",
       "      <td>S</td>\n",
       "      <td>NaN</td>\n",
       "    </tr>\n",
       "    <tr>\n",
       "      <th>351</th>\n",
       "      <td>33945096</td>\n",
       "      <td>SPE00120287</td>\n",
       "      <td>20161218</td>\n",
       "      <td>TAVG</td>\n",
       "      <td>8.8</td>\n",
       "      <td>H</td>\n",
       "      <td>NaN</td>\n",
       "      <td>S</td>\n",
       "      <td>NaN</td>\n",
       "    </tr>\n",
       "    <tr>\n",
       "      <th>220</th>\n",
       "      <td>21290582</td>\n",
       "      <td>SPE00120287</td>\n",
       "      <td>20160808</td>\n",
       "      <td>TAVG</td>\n",
       "      <td>29.7</td>\n",
       "      <td>H</td>\n",
       "      <td>NaN</td>\n",
       "      <td>S</td>\n",
       "      <td>NaN</td>\n",
       "    </tr>\n",
       "  </tbody>\n",
       "</table>\n",
       "</div>"
      ],
      "text/plain": [
       "        index           id      date  type  Value1 Value2 Value3 Value4  \\\n",
       "159  15484787  SPE00120287  20160608  TAVG    28.9      H    NaN      S   \n",
       "131  12828425  SPE00120287  20160511  TAVG    11.3      H    NaN      S   \n",
       "138  13494852  SPE00120287  20160518  TAVG    20.7      H    NaN      S   \n",
       "351  33945096  SPE00120287  20161218  TAVG     8.8      H    NaN      S   \n",
       "220  21290582  SPE00120287  20160808  TAVG    29.7      H    NaN      S   \n",
       "\n",
       "     Value5  \n",
       "159     NaN  \n",
       "131     NaN  \n",
       "138     NaN  \n",
       "351     NaN  \n",
       "220     NaN  "
      ]
     },
     "execution_count": 103,
     "metadata": {},
     "output_type": "execute_result"
    }
   ],
   "source": [
    "#Now we extract the data from the climate table\n",
    "datatavg = weatherdf[(weatherdf[\"id\"]==code)&(weatherdf[\"type\"]==\"TAVG\")].sort_values(\"date\")\n",
    "datatavg[\"Value1\"]=datatavg[\"Value1\"]/10\n",
    "datatavg = datatavg.reset_index()\n",
    "datatavg.sample(5)"
   ]
  },
  {
   "cell_type": "code",
   "execution_count": 104,
   "metadata": {},
   "outputs": [
    {
     "data": {
      "image/png": "[encoded data removed]",
      "text/plain": [
       "<matplotlib.figure.Figure at 0x29342822780>"
      ]
     },
     "metadata": {},
     "output_type": "display_data"
    }
   ],
   "source": [
    "plt.figure(figsize=(20,10))\n",
    "x = range(len(datatavg))\n",
    "plt.plot(x,datatavg[\"Value1\"])\n",
    "plt.xticks(x, datatavg[\"date\"], rotation='45')\n",
    "plt.show()"
   ]
  },
  {
   "cell_type": "code",
   "execution_count": null,
   "metadata": {},
   "outputs": [],
   "source": []
  }
 ],
 "metadata": {
  "kernelspec": {
   "display_name": "Python 3",
   "language": "python",
   "name": "python3"
  },
  "language_info": {
   "codemirror_mode": {
    "name": "ipython",
    "version": 3
   },
   "file_extension": ".py",
   "mimetype": "text/x-python",
   "name": "python",
   "nbconvert_exporter": "python",
   "pygments_lexer": "ipython3",
   "version": "3.6.3"
  }
 },
 "nbformat": 4,
 "nbformat_minor": 1
}
