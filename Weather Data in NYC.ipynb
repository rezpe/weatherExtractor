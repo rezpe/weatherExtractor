{
 "cells": [
  {
   "cell_type": "code",
   "execution_count": 1,
   "metadata": {
    "collapsed": true
   },
   "outputs": [],
   "source": [
    "import pandas as pd"
   ]
  },
  {
   "cell_type": "code",
   "execution_count": 2,
   "metadata": {
    "collapsed": false
   },
   "outputs": [
    {
     "name": "stdout",
     "output_type": "stream",
     "text": [
      "US1FLSL0019,20160101,PRCP,3,,,N,\r\n",
      "USC00141761,20160101,TMAX,22,,,H,0700\r\n",
      "USC00141761,20160101,TMIN,-89,,,H,0700\r\n",
      "USC00141761,20160101,TOBS,-89,,,H,0700\r\n",
      "USC00141761,20160101,PRCP,0,,,H,0700\r\n",
      "USC00141761,20160101,SNOW,0,,,H,\r\n",
      "USC00141761,20160101,SNWD,0,,,H,0700\r\n",
      "USS0018D08S,20160101,TMAX,-25,,,T,\r\n",
      "USS0018D08S,20160101,TMIN,-177,,,T,\r\n",
      "USS0018D08S,20160101,TOBS,-61,,,T,\r\n",
      "cat: write error: Broken pipe\r\n"
     ]
    }
   ],
   "source": [
    "cat 2016.csv | head -n 10"
   ]
  },
  {
   "cell_type": "code",
   "execution_count": 3,
   "metadata": {
    "collapsed": true
   },
   "outputs": [],
   "source": [
    "weather = pd.read_csv(\"2016.csv\",header=None)"
   ]
  },
  {
   "cell_type": "code",
   "execution_count": 4,
   "metadata": {
    "collapsed": false
   },
   "outputs": [
    {
     "data": {
      "text/html": [
       "<div>\n",
       "<table border=\"1\" class=\"dataframe\">\n",
       "  <thead>\n",
       "    <tr style=\"text-align: right;\">\n",
       "      <th></th>\n",
       "      <th>0</th>\n",
       "      <th>1</th>\n",
       "      <th>2</th>\n",
       "      <th>3</th>\n",
       "      <th>4</th>\n",
       "      <th>5</th>\n",
       "      <th>6</th>\n",
       "      <th>7</th>\n",
       "    </tr>\n",
       "  </thead>\n",
       "  <tbody>\n",
       "    <tr>\n",
       "      <th>586371</th>\n",
       "      <td>USW00003966</td>\n",
       "      <td>20160109</td>\n",
       "      <td>WSF5</td>\n",
       "      <td>148</td>\n",
       "      <td>NaN</td>\n",
       "      <td>NaN</td>\n",
       "      <td>W</td>\n",
       "      <td>NaN</td>\n",
       "    </tr>\n",
       "    <tr>\n",
       "      <th>785194</th>\n",
       "      <td>US1GACT0009</td>\n",
       "      <td>20160112</td>\n",
       "      <td>PRCP</td>\n",
       "      <td>0</td>\n",
       "      <td>NaN</td>\n",
       "      <td>NaN</td>\n",
       "      <td>N</td>\n",
       "      <td>NaN</td>\n",
       "    </tr>\n",
       "    <tr>\n",
       "      <th>31332</th>\n",
       "      <td>US1CAMR0031</td>\n",
       "      <td>20160101</td>\n",
       "      <td>SNOW</td>\n",
       "      <td>0</td>\n",
       "      <td>NaN</td>\n",
       "      <td>NaN</td>\n",
       "      <td>N</td>\n",
       "      <td>NaN</td>\n",
       "    </tr>\n",
       "    <tr>\n",
       "      <th>670236</th>\n",
       "      <td>USR0000MROS</td>\n",
       "      <td>20160110</td>\n",
       "      <td>TAVG</td>\n",
       "      <td>-276</td>\n",
       "      <td>NaN</td>\n",
       "      <td>NaN</td>\n",
       "      <td>U</td>\n",
       "      <td>NaN</td>\n",
       "    </tr>\n",
       "    <tr>\n",
       "      <th>1203741</th>\n",
       "      <td>US1WVKN0001</td>\n",
       "      <td>20160118</td>\n",
       "      <td>PRCP</td>\n",
       "      <td>8</td>\n",
       "      <td>NaN</td>\n",
       "      <td>NaN</td>\n",
       "      <td>N</td>\n",
       "      <td>NaN</td>\n",
       "    </tr>\n",
       "  </tbody>\n",
       "</table>\n",
       "</div>"
      ],
      "text/plain": [
       "                   0         1     2    3    4    5  6   7\n",
       "586371   USW00003966  20160109  WSF5  148  NaN  NaN  W NaN\n",
       "785194   US1GACT0009  20160112  PRCP    0  NaN  NaN  N NaN\n",
       "31332    US1CAMR0031  20160101  SNOW    0  NaN  NaN  N NaN\n",
       "670236   USR0000MROS  20160110  TAVG -276  NaN  NaN  U NaN\n",
       "1203741  US1WVKN0001  20160118  PRCP    8  NaN  NaN  N NaN"
      ]
     },
     "execution_count": 4,
     "metadata": {},
     "output_type": "execute_result"
    }
   ],
   "source": [
    "weather.sample(5)"
   ]
  },
  {
   "cell_type": "code",
   "execution_count": 5,
   "metadata": {
    "collapsed": true
   },
   "outputs": [],
   "source": [
    "weather.columns = [\"code\",\"day\",\"type\",\"value1\",\"value2\",\"value3\",\"value4\",\"value5\"]"
   ]
  },
  {
   "cell_type": "code",
   "execution_count": 6,
   "metadata": {
    "collapsed": false
   },
   "outputs": [
    {
     "data": {
      "text/html": [
       "<div>\n",
       "<table border=\"1\" class=\"dataframe\">\n",
       "  <thead>\n",
       "    <tr style=\"text-align: right;\">\n",
       "      <th></th>\n",
       "      <th>code</th>\n",
       "      <th>day</th>\n",
       "      <th>type</th>\n",
       "      <th>value1</th>\n",
       "      <th>value2</th>\n",
       "      <th>value3</th>\n",
       "      <th>value4</th>\n",
       "      <th>value5</th>\n",
       "    </tr>\n",
       "  </thead>\n",
       "  <tbody>\n",
       "    <tr>\n",
       "      <th>1808465</th>\n",
       "      <td>USC00359372</td>\n",
       "      <td>20160127</td>\n",
       "      <td>SNWD</td>\n",
       "      <td>0</td>\n",
       "      <td>NaN</td>\n",
       "      <td>NaN</td>\n",
       "      <td>H</td>\n",
       "      <td>NaN</td>\n",
       "    </tr>\n",
       "    <tr>\n",
       "      <th>1853049</th>\n",
       "      <td>USC00411694</td>\n",
       "      <td>20160128</td>\n",
       "      <td>PRCP</td>\n",
       "      <td>0</td>\n",
       "      <td>NaN</td>\n",
       "      <td>NaN</td>\n",
       "      <td>H</td>\n",
       "      <td>700</td>\n",
       "    </tr>\n",
       "    <tr>\n",
       "      <th>2032919</th>\n",
       "      <td>US1NHCR0012</td>\n",
       "      <td>20160131</td>\n",
       "      <td>PRCP</td>\n",
       "      <td>0</td>\n",
       "      <td>NaN</td>\n",
       "      <td>NaN</td>\n",
       "      <td>N</td>\n",
       "      <td>NaN</td>\n",
       "    </tr>\n",
       "    <tr>\n",
       "      <th>593275</th>\n",
       "      <td>USR0000NDSS</td>\n",
       "      <td>20160109</td>\n",
       "      <td>TMAX</td>\n",
       "      <td>28</td>\n",
       "      <td>H</td>\n",
       "      <td>NaN</td>\n",
       "      <td>U</td>\n",
       "      <td>NaN</td>\n",
       "    </tr>\n",
       "    <tr>\n",
       "      <th>687807</th>\n",
       "      <td>US1ARMR0010</td>\n",
       "      <td>20160110</td>\n",
       "      <td>PRCP</td>\n",
       "      <td>13</td>\n",
       "      <td>NaN</td>\n",
       "      <td>NaN</td>\n",
       "      <td>N</td>\n",
       "      <td>NaN</td>\n",
       "    </tr>\n",
       "  </tbody>\n",
       "</table>\n",
       "</div>"
      ],
      "text/plain": [
       "                code       day  type  value1 value2 value3 value4  value5\n",
       "1808465  USC00359372  20160127  SNWD       0    NaN    NaN      H     NaN\n",
       "1853049  USC00411694  20160128  PRCP       0    NaN    NaN      H     700\n",
       "2032919  US1NHCR0012  20160131  PRCP       0    NaN    NaN      N     NaN\n",
       "593275   USR0000NDSS  20160109  TMAX      28      H    NaN      U     NaN\n",
       "687807   US1ARMR0010  20160110  PRCP      13    NaN    NaN      N     NaN"
      ]
     },
     "execution_count": 6,
     "metadata": {},
     "output_type": "execute_result"
    }
   ],
   "source": [
    "weather.sample(5)"
   ]
  },
  {
   "cell_type": "code",
   "execution_count": 13,
   "metadata": {
    "collapsed": false
   },
   "outputs": [],
   "source": [
    "prcpnyc = weather[(weather[\"code\"]=='US1NJBG0018') & (weather[\"type\"]=='PRCP')].sort_values(\"day\")"
   ]
  },
  {
   "cell_type": "code",
   "execution_count": 14,
   "metadata": {
    "collapsed": true
   },
   "outputs": [],
   "source": [
    "import matplotlib.pyplot as plt\n",
    "%matplotlib inline"
   ]
  },
  {
   "cell_type": "code",
   "execution_count": 16,
   "metadata": {
    "collapsed": false
   },
   "outputs": [
    {
     "data": {
      "image/png": "[encoded data removed]",
      "text/plain": [
       "<matplotlib.figure.Figure at 0x7f3520e5c610>"
      ]
     },
     "metadata": {},
     "output_type": "display_data"
    }
   ],
   "source": [
    "x = range(len(prcpnyc))\n",
    "plt.bar(x,prcpnyc[\"value1\"])\n",
    "plt.show()"
   ]
  },
  {
   "cell_type": "code",
   "execution_count": null,
   "metadata": {
    "collapsed": true
   },
   "outputs": [],
   "source": []
  }
 ],
 "metadata": {
  "kernelspec": {
   "display_name": "Python 2",
   "language": "python",
   "name": "python2"
  },
  "language_info": {
   "codemirror_mode": {
    "name": "ipython",
    "version": 2
   },
   "file_extension": ".py",
   "mimetype": "text/x-python",
   "name": "python",
   "nbconvert_exporter": "python",
   "pygments_lexer": "ipython2",
   "version": "2.7.9"
  }
 },
 "nbformat": 4,
 "nbformat_minor": 0
}
