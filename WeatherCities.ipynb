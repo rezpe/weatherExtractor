{
 "cells": [
  {
   "cell_type": "code",
   "execution_count": 1,
   "metadata": {
    "collapsed": true
   },
   "outputs": [],
   "source": [
    "from GeoBases import GeoBase"
   ]
  },
  {
   "cell_type": "code",
   "execution_count": 2,
   "metadata": {
    "collapsed": true
   },
   "outputs": [],
   "source": [
    "geo_c = GeoBase(data='ori_por', verbose=False)"
   ]
  },
  {
   "cell_type": "code",
   "execution_count": 3,
   "metadata": {
    "collapsed": false
   },
   "outputs": [
    {
     "name": "stdout",
     "output_type": "stream",
     "text": [
      "ACW00011604  17.1167  -61.7833   10.1    ST JOHNS COOLIDGE FLD                       \r\n",
      "ACW00011647  17.1333  -61.7833   19.2    ST JOHNS                                    \r\n",
      "AE000041196  25.3330   55.5170   34.0    SHARJAH INTER. AIRP            GSN     41196\r\n",
      "AEM00041194  25.2550   55.3640   10.4    DUBAI INTL                             41194\r\n",
      "AEM00041217  24.4330   54.6510   26.8    ABU DHABI INTL                         41217\r\n",
      "AEM00041218  24.2620   55.6090  264.9    AL AIN INTL                            41218\r\n",
      "AF000040930  35.3170   69.0170 3366.0    NORTH-SALANG                   GSN     40930\r\n",
      "AFM00040938  34.2100   62.2280  977.2    HERAT                                  40938\r\n",
      "AFM00040948  34.5660   69.2120 1791.3    KABUL INTL                             40948\r\n",
      "AFM00040990  31.5000   65.8500 1010.0    KANDAHAR AIRPORT                       40990\r\n",
      "cat: write error: Broken pipe\r\n"
     ]
    }
   ],
   "source": [
    "!cat stations.txt | head -n 10"
   ]
  },
  {
   "cell_type": "code",
   "execution_count": 4,
   "metadata": {
    "collapsed": true
   },
   "outputs": [],
   "source": [
    "import pandas as pd"
   ]
  },
  {
   "cell_type": "code",
   "execution_count": 5,
   "metadata": {
    "collapsed": false
   },
   "outputs": [],
   "source": [
    "stationstxt = \"\"\n",
    "with open(\"stations.txt\") as input:\n",
    "    stationstxt = input.read()"
   ]
  },
  {
   "cell_type": "code",
   "execution_count": 6,
   "metadata": {
    "collapsed": false
   },
   "outputs": [],
   "source": [
    "#Extract the data from file\n",
    "stations = stationstxt.split(\"\\n\")\n",
    "\n",
    "#Remove last line\n",
    "stations = stations[:-1]\n",
    "\n",
    "stations = map(lambda line: [line[0:11],float(line[13:20]),float(line[22:30]),line[41:71]], stations)"
   ]
  },
  {
   "cell_type": "code",
   "execution_count": 7,
   "metadata": {
    "collapsed": false
   },
   "outputs": [
    {
     "data": {
      "text/plain": [
       "100100"
      ]
     },
     "execution_count": 7,
     "metadata": {},
     "output_type": "execute_result"
    }
   ],
   "source": [
    "len(stations)"
   ]
  },
  {
   "cell_type": "code",
   "execution_count": 8,
   "metadata": {
    "collapsed": false,
    "scrolled": true
   },
   "outputs": [
    {
     "data": {
      "text/plain": [
       "[['ACW00011604', 17.1167, -61.7833, 'ST JOHNS COOLIDGE FLD         '],\n",
       " ['ACW00011647', 17.1333, -61.7833, 'ST JOHNS                      '],\n",
       " ['AE000041196', 25.333, 55.517, 'SHARJAH INTER. AIRP           '],\n",
       " ['AEM00041194', 25.255, 55.364, 'DUBAI INTL                    '],\n",
       " ['AEM00041217', 24.433, 54.651, 'ABU DHABI INTL                ']]"
      ]
     },
     "execution_count": 8,
     "metadata": {},
     "output_type": "execute_result"
    }
   ],
   "source": [
    "stations[:5]"
   ]
  },
  {
   "cell_type": "code",
   "execution_count": 9,
   "metadata": {
    "collapsed": false
   },
   "outputs": [],
   "source": [
    "def getCity(lat,lng):\n",
    "    try:\n",
    "        l = [[k,int(\"0\"+geo_c.get(k)[\"population\"])] for _,k in geo_c.findNearPoint((lat, lng), 10)]\n",
    "        l = sorted(l, key=lambda city: city[1], reverse=True)[0]\n",
    "        code = l[0]\n",
    "        return geo_c.get(code,'city_code')\n",
    "    except:\n",
    "        return \"\"\n",
    "\n",
    "stations = map(lambda s: s + [getCity(s[1],s[2])],stations)"
   ]
  },
  {
   "cell_type": "code",
   "execution_count": 10,
   "metadata": {
    "collapsed": false
   },
   "outputs": [],
   "source": [
    "stationsdf = pd.DataFrame(stations)\n",
    "stationsdf.columns = [\"id\",\"lat\",\"lng\",\"name\",\"asciicity\"]"
   ]
  },
  {
   "cell_type": "code",
   "execution_count": 11,
   "metadata": {
    "collapsed": false
   },
   "outputs": [],
   "source": [
    "citywithweather = stationsdf[stationsdf[\"asciicity\"]!=\"\"]"
   ]
  },
  {
   "cell_type": "code",
   "execution_count": 12,
   "metadata": {
    "collapsed": false
   },
   "outputs": [
    {
     "data": {
      "text/plain": [
       "13333"
      ]
     },
     "execution_count": 12,
     "metadata": {},
     "output_type": "execute_result"
    }
   ],
   "source": [
    "len(citywithweather)"
   ]
  },
  {
   "cell_type": "code",
   "execution_count": 13,
   "metadata": {
    "collapsed": false
   },
   "outputs": [],
   "source": [
    "grcity = citywithweather.groupby(\"asciicity\").first().reset_index()"
   ]
  },
  {
   "cell_type": "code",
   "execution_count": 14,
   "metadata": {
    "collapsed": false
   },
   "outputs": [
    {
     "data": {
      "text/plain": [
       "3450"
      ]
     },
     "execution_count": 14,
     "metadata": {},
     "output_type": "execute_result"
    }
   ],
   "source": [
    "len(grcity)"
   ]
  },
  {
   "cell_type": "code",
   "execution_count": 15,
   "metadata": {
    "collapsed": false
   },
   "outputs": [],
   "source": [
    "open(\"citiesweather.csv\",\"w\").write(grcity.to_csv())"
   ]
  },
  {
   "cell_type": "code",
   "execution_count": 18,
   "metadata": {
    "collapsed": false
   },
   "outputs": [
    {
     "data": {
      "text/html": [
       "<div>\n",
       "<table border=\"1\" class=\"dataframe\">\n",
       "  <thead>\n",
       "    <tr style=\"text-align: right;\">\n",
       "      <th></th>\n",
       "      <th>asciicity</th>\n",
       "      <th>id</th>\n",
       "      <th>lat</th>\n",
       "      <th>lng</th>\n",
       "      <th>name</th>\n",
       "    </tr>\n",
       "  </thead>\n",
       "  <tbody>\n",
       "    <tr>\n",
       "      <th>1612</th>\n",
       "      <td>MAD</td>\n",
       "      <td>SP000003195</td>\n",
       "      <td>40.4117</td>\n",
       "      <td>-3.6781</td>\n",
       "      <td>MADRID - RETIRO</td>\n",
       "    </tr>\n",
       "  </tbody>\n",
       "</table>\n",
       "</div>"
      ],
      "text/plain": [
       "     asciicity           id      lat     lng                            name\n",
       "1612       MAD  SP000003195  40.4117 -3.6781  MADRID - RETIRO               "
      ]
     },
     "execution_count": 18,
     "metadata": {},
     "output_type": "execute_result"
    }
   ],
   "source": [
    "grcity[grcity[\"asciicity\"].str.contains(\"MAD\")]"
   ]
  },
  {
   "cell_type": "code",
   "execution_count": 19,
   "metadata": {
    "collapsed": false
   },
   "outputs": [
    {
     "data": {
      "text/html": [
       "<div>\n",
       "<table border=\"1\" class=\"dataframe\">\n",
       "  <thead>\n",
       "    <tr style=\"text-align: right;\">\n",
       "      <th></th>\n",
       "      <th>asciicity</th>\n",
       "      <th>id</th>\n",
       "      <th>lat</th>\n",
       "      <th>lng</th>\n",
       "      <th>name</th>\n",
       "    </tr>\n",
       "  </thead>\n",
       "  <tbody>\n",
       "    <tr>\n",
       "      <th>2058</th>\n",
       "      <td>PCU</td>\n",
       "      <td>US1MSPR0002</td>\n",
       "      <td>30.5240</td>\n",
       "      <td>-89.6360</td>\n",
       "      <td>PICAYUNE 2.5 E</td>\n",
       "    </tr>\n",
       "    <tr>\n",
       "      <th>3226</th>\n",
       "      <td>YIB</td>\n",
       "      <td>CA006020379</td>\n",
       "      <td>48.7500</td>\n",
       "      <td>-91.6167</td>\n",
       "      <td>ATIKOKAN</td>\n",
       "    </tr>\n",
       "    <tr>\n",
       "      <th>2139</th>\n",
       "      <td>PNY</td>\n",
       "      <td>IN022043400</td>\n",
       "      <td>11.9200</td>\n",
       "      <td>79.8300</td>\n",
       "      <td>PONDICHERY      OBSY</td>\n",
       "    </tr>\n",
       "    <tr>\n",
       "      <th>207</th>\n",
       "      <td>BBD</td>\n",
       "      <td>US1TXMCC007</td>\n",
       "      <td>31.1186</td>\n",
       "      <td>-99.3427</td>\n",
       "      <td>BRADY 2.2 ESE</td>\n",
       "    </tr>\n",
       "    <tr>\n",
       "      <th>1131</th>\n",
       "      <td>HVN</td>\n",
       "      <td>US1CTNH0003</td>\n",
       "      <td>41.3500</td>\n",
       "      <td>-72.9391</td>\n",
       "      <td>HAMDEN 3.8 SW</td>\n",
       "    </tr>\n",
       "  </tbody>\n",
       "</table>\n",
       "</div>"
      ],
      "text/plain": [
       "     asciicity           id      lat      lng                            name\n",
       "2058       PCU  US1MSPR0002  30.5240 -89.6360  PICAYUNE 2.5 E                \n",
       "3226       YIB  CA006020379  48.7500 -91.6167  ATIKOKAN                      \n",
       "2139       PNY  IN022043400  11.9200  79.8300  PONDICHERY      OBSY          \n",
       "207        BBD  US1TXMCC007  31.1186 -99.3427  BRADY 2.2 ESE                 \n",
       "1131       HVN  US1CTNH0003  41.3500 -72.9391  HAMDEN 3.8 SW                 "
      ]
     },
     "execution_count": 19,
     "metadata": {},
     "output_type": "execute_result"
    }
   ],
   "source": [
    "grcity.sample(5)"
   ]
  },
  {
   "cell_type": "code",
   "execution_count": null,
   "metadata": {
    "collapsed": false
   },
   "outputs": [],
   "source": []
  },
  {
   "cell_type": "code",
   "execution_count": null,
   "metadata": {
    "collapsed": true
   },
   "outputs": [],
   "source": []
  }
 ],
 "metadata": {
  "kernelspec": {
   "display_name": "Python 2",
   "language": "python",
   "name": "python2"
  },
  "language_info": {
   "codemirror_mode": {
    "name": "ipython",
    "version": 2
   },
   "file_extension": ".py",
   "mimetype": "text/x-python",
   "name": "python",
   "nbconvert_exporter": "python",
   "pygments_lexer": "ipython2",
   "version": "2.7.9"
  }
 },
 "nbformat": 4,
 "nbformat_minor": 0
}
